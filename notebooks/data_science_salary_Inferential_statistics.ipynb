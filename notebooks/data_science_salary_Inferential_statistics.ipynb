{
  "nbformat": 4,
  "nbformat_minor": 0,
  "metadata": {
    "colab": {
      "provenance": []
    },
    "kernelspec": {
      "name": "python3",
      "display_name": "Python 3"
    },
    "language_info": {
      "name": "python"
    }
  },
  "cells": [
    {
      "cell_type": "code",
      "source": [
        "# Author: Elahe Golrokh\n",
        "# Repo: https://github.com/ElahehGolrokh/data-science-salary-range"
      ],
      "metadata": {
        "id": "FlVZQ4BWtbWd"
      },
      "execution_count": null,
      "outputs": []
    },
    {
      "cell_type": "markdown",
      "source": [
        "***Important Note:*** The following analyses are intended solely to demonstrate statistical methods and reasoning. The dataset is noisy, not collected through a random sampling process, and may not be representative of the population. Therefore, the results should not be interpreted as valid inferences about real-world salaries."
      ],
      "metadata": {
        "id": "-iDcvcWWcXNw"
      }
    },
    {
      "cell_type": "code",
      "execution_count": 1,
      "metadata": {
        "id": "VxMzJ5WX9lDg"
      },
      "outputs": [],
      "source": [
        "import ast\n",
        "import matplotlib.pyplot as plt\n",
        "import numpy as np\n",
        "import pandas as pd\n",
        "import random\n",
        "import seaborn as sns\n",
        "\n",
        "from collections import Counter\n",
        "from scipy import stats\n",
        "from scipy.stats import ttest_1samp\n"
      ]
    },
    {
      "cell_type": "code",
      "source": [
        "from google.colab import files\n",
        "files.upload()"
      ],
      "metadata": {
        "id": "wajIDsSn_P29"
      },
      "execution_count": null,
      "outputs": []
    },
    {
      "cell_type": "code",
      "source": [
        "df = pd.read_csv('/content/df_feature_engineered.csv')\n",
        "df.head()"
      ],
      "metadata": {
        "colab": {
          "base_uri": "https://localhost:8080/",
          "height": 521
        },
        "id": "JfZh8JTQ_TtP",
        "outputId": "3f28827a-94f3-4a94-8525-629b3898422c"
      },
      "execution_count": 2,
      "outputs": [
        {
          "output_type": "execute_result",
          "data": {
            "text/plain": [
              "        job_title seniority_level   status      company        location  \\\n",
              "0  data scientist          senior   hybrid  company_003   United States   \n",
              "1  data scientist            lead   hybrid  company_005   United States   \n",
              "2  data scientist          senior  on-site  company_007  multi-location   \n",
              "3  data scientist          senior   hybrid  company_008  multi-location   \n",
              "4  data scientist             NaN  on-site  company_009   United States   \n",
              "\n",
              "     headquarter       industry ownership  company_size       revenue  \\\n",
              "0  United States         Retail    Public           NaN  3.524400e+11   \n",
              "1  United States  Manufacturing    Public      155030.0  5.110000e+10   \n",
              "2  United States     Technology    Public       25930.0  3.380000e+10   \n",
              "3  United States     Technology    Public       34690.0  8.171000e+10   \n",
              "4  United States        Finance   Private        1800.0           NaN   \n",
              "\n",
              "                                              skills  min_salary  max_salary  \\\n",
              "0  ['spark', 'r', 'python', 'scala', 'machine lea...    100472.0    200938.0   \n",
              "1  ['spark', 'r', 'python', 'sql', 'machine learn...    118733.0    118733.0   \n",
              "2  ['aws', 'git', 'python', 'docker', 'sql', 'mac...     94987.0    159559.0   \n",
              "3                             ['sql', 'r', 'python']    112797.0    194402.0   \n",
              "4                                                 []    114172.0    228337.0   \n",
              "\n",
              "   mean_salary  \n",
              "0     150705.0  \n",
              "1     118733.0  \n",
              "2     127273.0  \n",
              "3     153599.5  \n",
              "4     171254.5  "
            ],
            "text/html": [
              "\n",
              "  <div id=\"df-05de1c6b-31a5-4247-9a25-616ebaaa38fd\" class=\"colab-df-container\">\n",
              "    <div>\n",
              "<style scoped>\n",
              "    .dataframe tbody tr th:only-of-type {\n",
              "        vertical-align: middle;\n",
              "    }\n",
              "\n",
              "    .dataframe tbody tr th {\n",
              "        vertical-align: top;\n",
              "    }\n",
              "\n",
              "    .dataframe thead th {\n",
              "        text-align: right;\n",
              "    }\n",
              "</style>\n",
              "<table border=\"1\" class=\"dataframe\">\n",
              "  <thead>\n",
              "    <tr style=\"text-align: right;\">\n",
              "      <th></th>\n",
              "      <th>job_title</th>\n",
              "      <th>seniority_level</th>\n",
              "      <th>status</th>\n",
              "      <th>company</th>\n",
              "      <th>location</th>\n",
              "      <th>headquarter</th>\n",
              "      <th>industry</th>\n",
              "      <th>ownership</th>\n",
              "      <th>company_size</th>\n",
              "      <th>revenue</th>\n",
              "      <th>skills</th>\n",
              "      <th>min_salary</th>\n",
              "      <th>max_salary</th>\n",
              "      <th>mean_salary</th>\n",
              "    </tr>\n",
              "  </thead>\n",
              "  <tbody>\n",
              "    <tr>\n",
              "      <th>0</th>\n",
              "      <td>data scientist</td>\n",
              "      <td>senior</td>\n",
              "      <td>hybrid</td>\n",
              "      <td>company_003</td>\n",
              "      <td>United States</td>\n",
              "      <td>United States</td>\n",
              "      <td>Retail</td>\n",
              "      <td>Public</td>\n",
              "      <td>NaN</td>\n",
              "      <td>3.524400e+11</td>\n",
              "      <td>['spark', 'r', 'python', 'scala', 'machine lea...</td>\n",
              "      <td>100472.0</td>\n",
              "      <td>200938.0</td>\n",
              "      <td>150705.0</td>\n",
              "    </tr>\n",
              "    <tr>\n",
              "      <th>1</th>\n",
              "      <td>data scientist</td>\n",
              "      <td>lead</td>\n",
              "      <td>hybrid</td>\n",
              "      <td>company_005</td>\n",
              "      <td>United States</td>\n",
              "      <td>United States</td>\n",
              "      <td>Manufacturing</td>\n",
              "      <td>Public</td>\n",
              "      <td>155030.0</td>\n",
              "      <td>5.110000e+10</td>\n",
              "      <td>['spark', 'r', 'python', 'sql', 'machine learn...</td>\n",
              "      <td>118733.0</td>\n",
              "      <td>118733.0</td>\n",
              "      <td>118733.0</td>\n",
              "    </tr>\n",
              "    <tr>\n",
              "      <th>2</th>\n",
              "      <td>data scientist</td>\n",
              "      <td>senior</td>\n",
              "      <td>on-site</td>\n",
              "      <td>company_007</td>\n",
              "      <td>multi-location</td>\n",
              "      <td>United States</td>\n",
              "      <td>Technology</td>\n",
              "      <td>Public</td>\n",
              "      <td>25930.0</td>\n",
              "      <td>3.380000e+10</td>\n",
              "      <td>['aws', 'git', 'python', 'docker', 'sql', 'mac...</td>\n",
              "      <td>94987.0</td>\n",
              "      <td>159559.0</td>\n",
              "      <td>127273.0</td>\n",
              "    </tr>\n",
              "    <tr>\n",
              "      <th>3</th>\n",
              "      <td>data scientist</td>\n",
              "      <td>senior</td>\n",
              "      <td>hybrid</td>\n",
              "      <td>company_008</td>\n",
              "      <td>multi-location</td>\n",
              "      <td>United States</td>\n",
              "      <td>Technology</td>\n",
              "      <td>Public</td>\n",
              "      <td>34690.0</td>\n",
              "      <td>8.171000e+10</td>\n",
              "      <td>['sql', 'r', 'python']</td>\n",
              "      <td>112797.0</td>\n",
              "      <td>194402.0</td>\n",
              "      <td>153599.5</td>\n",
              "    </tr>\n",
              "    <tr>\n",
              "      <th>4</th>\n",
              "      <td>data scientist</td>\n",
              "      <td>NaN</td>\n",
              "      <td>on-site</td>\n",
              "      <td>company_009</td>\n",
              "      <td>United States</td>\n",
              "      <td>United States</td>\n",
              "      <td>Finance</td>\n",
              "      <td>Private</td>\n",
              "      <td>1800.0</td>\n",
              "      <td>NaN</td>\n",
              "      <td>[]</td>\n",
              "      <td>114172.0</td>\n",
              "      <td>228337.0</td>\n",
              "      <td>171254.5</td>\n",
              "    </tr>\n",
              "  </tbody>\n",
              "</table>\n",
              "</div>\n",
              "    <div class=\"colab-df-buttons\">\n",
              "\n",
              "  <div class=\"colab-df-container\">\n",
              "    <button class=\"colab-df-convert\" onclick=\"convertToInteractive('df-05de1c6b-31a5-4247-9a25-616ebaaa38fd')\"\n",
              "            title=\"Convert this dataframe to an interactive table.\"\n",
              "            style=\"display:none;\">\n",
              "\n",
              "  <svg xmlns=\"http://www.w3.org/2000/svg\" height=\"24px\" viewBox=\"0 -960 960 960\">\n",
              "    <path d=\"M120-120v-720h720v720H120Zm60-500h600v-160H180v160Zm220 220h160v-160H400v160Zm0 220h160v-160H400v160ZM180-400h160v-160H180v160Zm440 0h160v-160H620v160ZM180-180h160v-160H180v160Zm440 0h160v-160H620v160Z\"/>\n",
              "  </svg>\n",
              "    </button>\n",
              "\n",
              "  <style>\n",
              "    .colab-df-container {\n",
              "      display:flex;\n",
              "      gap: 12px;\n",
              "    }\n",
              "\n",
              "    .colab-df-convert {\n",
              "      background-color: #E8F0FE;\n",
              "      border: none;\n",
              "      border-radius: 50%;\n",
              "      cursor: pointer;\n",
              "      display: none;\n",
              "      fill: #1967D2;\n",
              "      height: 32px;\n",
              "      padding: 0 0 0 0;\n",
              "      width: 32px;\n",
              "    }\n",
              "\n",
              "    .colab-df-convert:hover {\n",
              "      background-color: #E2EBFA;\n",
              "      box-shadow: 0px 1px 2px rgba(60, 64, 67, 0.3), 0px 1px 3px 1px rgba(60, 64, 67, 0.15);\n",
              "      fill: #174EA6;\n",
              "    }\n",
              "\n",
              "    .colab-df-buttons div {\n",
              "      margin-bottom: 4px;\n",
              "    }\n",
              "\n",
              "    [theme=dark] .colab-df-convert {\n",
              "      background-color: #3B4455;\n",
              "      fill: #D2E3FC;\n",
              "    }\n",
              "\n",
              "    [theme=dark] .colab-df-convert:hover {\n",
              "      background-color: #434B5C;\n",
              "      box-shadow: 0px 1px 3px 1px rgba(0, 0, 0, 0.15);\n",
              "      filter: drop-shadow(0px 1px 2px rgba(0, 0, 0, 0.3));\n",
              "      fill: #FFFFFF;\n",
              "    }\n",
              "  </style>\n",
              "\n",
              "    <script>\n",
              "      const buttonEl =\n",
              "        document.querySelector('#df-05de1c6b-31a5-4247-9a25-616ebaaa38fd button.colab-df-convert');\n",
              "      buttonEl.style.display =\n",
              "        google.colab.kernel.accessAllowed ? 'block' : 'none';\n",
              "\n",
              "      async function convertToInteractive(key) {\n",
              "        const element = document.querySelector('#df-05de1c6b-31a5-4247-9a25-616ebaaa38fd');\n",
              "        const dataTable =\n",
              "          await google.colab.kernel.invokeFunction('convertToInteractive',\n",
              "                                                    [key], {});\n",
              "        if (!dataTable) return;\n",
              "\n",
              "        const docLinkHtml = 'Like what you see? Visit the ' +\n",
              "          '<a target=\"_blank\" href=https://colab.research.google.com/notebooks/data_table.ipynb>data table notebook</a>'\n",
              "          + ' to learn more about interactive tables.';\n",
              "        element.innerHTML = '';\n",
              "        dataTable['output_type'] = 'display_data';\n",
              "        await google.colab.output.renderOutput(dataTable, element);\n",
              "        const docLink = document.createElement('div');\n",
              "        docLink.innerHTML = docLinkHtml;\n",
              "        element.appendChild(docLink);\n",
              "      }\n",
              "    </script>\n",
              "  </div>\n",
              "\n",
              "\n",
              "    <div id=\"df-0af497ba-7be2-4bc1-be8a-a30eb4904a83\">\n",
              "      <button class=\"colab-df-quickchart\" onclick=\"quickchart('df-0af497ba-7be2-4bc1-be8a-a30eb4904a83')\"\n",
              "                title=\"Suggest charts\"\n",
              "                style=\"display:none;\">\n",
              "\n",
              "<svg xmlns=\"http://www.w3.org/2000/svg\" height=\"24px\"viewBox=\"0 0 24 24\"\n",
              "     width=\"24px\">\n",
              "    <g>\n",
              "        <path d=\"M19 3H5c-1.1 0-2 .9-2 2v14c0 1.1.9 2 2 2h14c1.1 0 2-.9 2-2V5c0-1.1-.9-2-2-2zM9 17H7v-7h2v7zm4 0h-2V7h2v10zm4 0h-2v-4h2v4z\"/>\n",
              "    </g>\n",
              "</svg>\n",
              "      </button>\n",
              "\n",
              "<style>\n",
              "  .colab-df-quickchart {\n",
              "      --bg-color: #E8F0FE;\n",
              "      --fill-color: #1967D2;\n",
              "      --hover-bg-color: #E2EBFA;\n",
              "      --hover-fill-color: #174EA6;\n",
              "      --disabled-fill-color: #AAA;\n",
              "      --disabled-bg-color: #DDD;\n",
              "  }\n",
              "\n",
              "  [theme=dark] .colab-df-quickchart {\n",
              "      --bg-color: #3B4455;\n",
              "      --fill-color: #D2E3FC;\n",
              "      --hover-bg-color: #434B5C;\n",
              "      --hover-fill-color: #FFFFFF;\n",
              "      --disabled-bg-color: #3B4455;\n",
              "      --disabled-fill-color: #666;\n",
              "  }\n",
              "\n",
              "  .colab-df-quickchart {\n",
              "    background-color: var(--bg-color);\n",
              "    border: none;\n",
              "    border-radius: 50%;\n",
              "    cursor: pointer;\n",
              "    display: none;\n",
              "    fill: var(--fill-color);\n",
              "    height: 32px;\n",
              "    padding: 0;\n",
              "    width: 32px;\n",
              "  }\n",
              "\n",
              "  .colab-df-quickchart:hover {\n",
              "    background-color: var(--hover-bg-color);\n",
              "    box-shadow: 0 1px 2px rgba(60, 64, 67, 0.3), 0 1px 3px 1px rgba(60, 64, 67, 0.15);\n",
              "    fill: var(--button-hover-fill-color);\n",
              "  }\n",
              "\n",
              "  .colab-df-quickchart-complete:disabled,\n",
              "  .colab-df-quickchart-complete:disabled:hover {\n",
              "    background-color: var(--disabled-bg-color);\n",
              "    fill: var(--disabled-fill-color);\n",
              "    box-shadow: none;\n",
              "  }\n",
              "\n",
              "  .colab-df-spinner {\n",
              "    border: 2px solid var(--fill-color);\n",
              "    border-color: transparent;\n",
              "    border-bottom-color: var(--fill-color);\n",
              "    animation:\n",
              "      spin 1s steps(1) infinite;\n",
              "  }\n",
              "\n",
              "  @keyframes spin {\n",
              "    0% {\n",
              "      border-color: transparent;\n",
              "      border-bottom-color: var(--fill-color);\n",
              "      border-left-color: var(--fill-color);\n",
              "    }\n",
              "    20% {\n",
              "      border-color: transparent;\n",
              "      border-left-color: var(--fill-color);\n",
              "      border-top-color: var(--fill-color);\n",
              "    }\n",
              "    30% {\n",
              "      border-color: transparent;\n",
              "      border-left-color: var(--fill-color);\n",
              "      border-top-color: var(--fill-color);\n",
              "      border-right-color: var(--fill-color);\n",
              "    }\n",
              "    40% {\n",
              "      border-color: transparent;\n",
              "      border-right-color: var(--fill-color);\n",
              "      border-top-color: var(--fill-color);\n",
              "    }\n",
              "    60% {\n",
              "      border-color: transparent;\n",
              "      border-right-color: var(--fill-color);\n",
              "    }\n",
              "    80% {\n",
              "      border-color: transparent;\n",
              "      border-right-color: var(--fill-color);\n",
              "      border-bottom-color: var(--fill-color);\n",
              "    }\n",
              "    90% {\n",
              "      border-color: transparent;\n",
              "      border-bottom-color: var(--fill-color);\n",
              "    }\n",
              "  }\n",
              "</style>\n",
              "\n",
              "      <script>\n",
              "        async function quickchart(key) {\n",
              "          const quickchartButtonEl =\n",
              "            document.querySelector('#' + key + ' button');\n",
              "          quickchartButtonEl.disabled = true;  // To prevent multiple clicks.\n",
              "          quickchartButtonEl.classList.add('colab-df-spinner');\n",
              "          try {\n",
              "            const charts = await google.colab.kernel.invokeFunction(\n",
              "                'suggestCharts', [key], {});\n",
              "          } catch (error) {\n",
              "            console.error('Error during call to suggestCharts:', error);\n",
              "          }\n",
              "          quickchartButtonEl.classList.remove('colab-df-spinner');\n",
              "          quickchartButtonEl.classList.add('colab-df-quickchart-complete');\n",
              "        }\n",
              "        (() => {\n",
              "          let quickchartButtonEl =\n",
              "            document.querySelector('#df-0af497ba-7be2-4bc1-be8a-a30eb4904a83 button');\n",
              "          quickchartButtonEl.style.display =\n",
              "            google.colab.kernel.accessAllowed ? 'block' : 'none';\n",
              "        })();\n",
              "      </script>\n",
              "    </div>\n",
              "\n",
              "    </div>\n",
              "  </div>\n"
            ],
            "application/vnd.google.colaboratory.intrinsic+json": {
              "type": "dataframe",
              "variable_name": "df",
              "summary": "{\n  \"name\": \"df\",\n  \"rows\": 938,\n  \"fields\": [\n    {\n      \"column\": \"job_title\",\n      \"properties\": {\n        \"dtype\": \"category\",\n        \"num_unique_values\": 4,\n        \"samples\": [\n          \"machine learning engineer\",\n          \"data engineer\",\n          \"data scientist\"\n        ],\n        \"semantic_type\": \"\",\n        \"description\": \"\"\n      }\n    },\n    {\n      \"column\": \"seniority_level\",\n      \"properties\": {\n        \"dtype\": \"category\",\n        \"num_unique_values\": 4,\n        \"samples\": [\n          \"lead\",\n          \"midlevel\",\n          \"senior\"\n        ],\n        \"semantic_type\": \"\",\n        \"description\": \"\"\n      }\n    },\n    {\n      \"column\": \"status\",\n      \"properties\": {\n        \"dtype\": \"category\",\n        \"num_unique_values\": 3,\n        \"samples\": [\n          \"hybrid\",\n          \"on-site\",\n          \"remote\"\n        ],\n        \"semantic_type\": \"\",\n        \"description\": \"\"\n      }\n    },\n    {\n      \"column\": \"company\",\n      \"properties\": {\n        \"dtype\": \"category\",\n        \"num_unique_values\": 417,\n        \"samples\": [\n          \"company_336\",\n          \"company_983\",\n          \"company_993\"\n        ],\n        \"semantic_type\": \"\",\n        \"description\": \"\"\n      }\n    },\n    {\n      \"column\": \"location\",\n      \"properties\": {\n        \"dtype\": \"category\",\n        \"num_unique_values\": 7,\n        \"samples\": [\n          \"United States\",\n          \"multi-location\",\n          \"Europe\"\n        ],\n        \"semantic_type\": \"\",\n        \"description\": \"\"\n      }\n    },\n    {\n      \"column\": \"headquarter\",\n      \"properties\": {\n        \"dtype\": \"category\",\n        \"num_unique_values\": 5,\n        \"samples\": [\n          \"Canada\",\n          \"Other\",\n          \"Europe\"\n        ],\n        \"semantic_type\": \"\",\n        \"description\": \"\"\n      }\n    },\n    {\n      \"column\": \"industry\",\n      \"properties\": {\n        \"dtype\": \"category\",\n        \"num_unique_values\": 8,\n        \"samples\": [\n          \"Manufacturing\",\n          \"Healthcare\",\n          \"Retail\"\n        ],\n        \"semantic_type\": \"\",\n        \"description\": \"\"\n      }\n    },\n    {\n      \"column\": \"ownership\",\n      \"properties\": {\n        \"dtype\": \"category\",\n        \"num_unique_values\": 2,\n        \"samples\": [\n          \"Private\",\n          \"Public\"\n        ],\n        \"semantic_type\": \"\",\n        \"description\": \"\"\n      }\n    },\n    {\n      \"column\": \"company_size\",\n      \"properties\": {\n        \"dtype\": \"number\",\n        \"std\": 185069.17355992598,\n        \"min\": 5.0,\n        \"max\": 865476.0,\n        \"num_unique_values\": 505,\n        \"samples\": [\n          2780.0,\n          98.0\n        ],\n        \"semantic_type\": \"\",\n        \"description\": \"\"\n      }\n    },\n    {\n      \"column\": \"revenue\",\n      \"properties\": {\n        \"dtype\": \"number\",\n        \"std\": 215930742278.55096,\n        \"min\": 913330000.0,\n        \"max\": 839080000000.0,\n        \"num_unique_values\": 294,\n        \"samples\": [\n          7940000000.0,\n          17410000000.0\n        ],\n        \"semantic_type\": \"\",\n        \"description\": \"\"\n      }\n    },\n    {\n      \"column\": \"skills\",\n      \"properties\": {\n        \"dtype\": \"category\",\n        \"num_unique_values\": 399,\n        \"samples\": [\n          \"['spark', 'aws', 'python', 'sql', 'machine learning', 'deep learning', 'azure']\",\n          \"['python', 'scala', 'sql', 'machine learning', 'hadoop', 'deep learning']\"\n        ],\n        \"semantic_type\": \"\",\n        \"description\": \"\"\n      }\n    },\n    {\n      \"column\": \"min_salary\",\n      \"properties\": {\n        \"dtype\": \"number\",\n        \"std\": 126532.6510323414,\n        \"min\": 4055.0,\n        \"max\": 2739979.0,\n        \"num_unique_values\": 805,\n        \"samples\": [\n          144491.0,\n          4082.0\n        ],\n        \"semantic_type\": \"\",\n        \"description\": \"\"\n      }\n    },\n    {\n      \"column\": \"max_salary\",\n      \"properties\": {\n        \"dtype\": \"number\",\n        \"std\": 134373.773995096,\n        \"min\": 7678.0,\n        \"max\": 2739979.0,\n        \"num_unique_values\": 821,\n        \"samples\": [\n          186322.0,\n          143851.0\n        ],\n        \"semantic_type\": \"\",\n        \"description\": \"\"\n      }\n    },\n    {\n      \"column\": \"mean_salary\",\n      \"properties\": {\n        \"dtype\": \"number\",\n        \"std\": 129095.49019974626,\n        \"min\": 7055.0,\n        \"max\": 2739979.0,\n        \"num_unique_values\": 868,\n        \"samples\": [\n          203038.0,\n          306623.0\n        ],\n        \"semantic_type\": \"\",\n        \"description\": \"\"\n      }\n    }\n  ]\n}"
            }
          },
          "metadata": {},
          "execution_count": 2
        }
      ]
    },
    {
      "cell_type": "markdown",
      "source": [
        "# **General Stats**"
      ],
      "metadata": {
        "id": "b9nlkovPslPP"
      }
    },
    {
      "cell_type": "code",
      "source": [
        "df.info()"
      ],
      "metadata": {
        "colab": {
          "base_uri": "https://localhost:8080/"
        },
        "id": "GFcArLCU_n64",
        "outputId": "722606d5-3a47-4417-d409-77faca6f2fdb"
      },
      "execution_count": null,
      "outputs": [
        {
          "output_type": "stream",
          "name": "stdout",
          "text": [
            "<class 'pandas.core.frame.DataFrame'>\n",
            "RangeIndex: 938 entries, 0 to 937\n",
            "Data columns (total 14 columns):\n",
            " #   Column           Non-Null Count  Dtype  \n",
            "---  ------           --------------  -----  \n",
            " 0   job_title        935 non-null    object \n",
            " 1   seniority_level  880 non-null    object \n",
            " 2   status           685 non-null    object \n",
            " 3   company          938 non-null    object \n",
            " 4   location         938 non-null    object \n",
            " 5   headquarter      938 non-null    object \n",
            " 6   industry         938 non-null    object \n",
            " 7   ownership        906 non-null    object \n",
            " 8   company_size     900 non-null    float64\n",
            " 9   revenue          421 non-null    float64\n",
            " 10  skills           938 non-null    object \n",
            " 11  min_salary       938 non-null    float64\n",
            " 12  max_salary       938 non-null    float64\n",
            " 13  mean_salary      938 non-null    float64\n",
            "dtypes: float64(5), object(9)\n",
            "memory usage: 102.7+ KB\n"
          ]
        }
      ]
    },
    {
      "cell_type": "code",
      "source": [
        "df.isnull().sum()"
      ],
      "metadata": {
        "colab": {
          "base_uri": "https://localhost:8080/",
          "height": 523
        },
        "id": "SDK1UuKs_xzJ",
        "outputId": "63c391fe-f866-4dfe-d24a-a5737f696b4b"
      },
      "execution_count": null,
      "outputs": [
        {
          "output_type": "execute_result",
          "data": {
            "text/plain": [
              "job_title            3\n",
              "seniority_level     58\n",
              "status             253\n",
              "company              0\n",
              "location             0\n",
              "headquarter          0\n",
              "industry             0\n",
              "ownership           32\n",
              "company_size        38\n",
              "revenue            517\n",
              "skills               0\n",
              "min_salary           0\n",
              "max_salary           0\n",
              "mean_salary          0\n",
              "dtype: int64"
            ],
            "text/html": [
              "<div>\n",
              "<style scoped>\n",
              "    .dataframe tbody tr th:only-of-type {\n",
              "        vertical-align: middle;\n",
              "    }\n",
              "\n",
              "    .dataframe tbody tr th {\n",
              "        vertical-align: top;\n",
              "    }\n",
              "\n",
              "    .dataframe thead th {\n",
              "        text-align: right;\n",
              "    }\n",
              "</style>\n",
              "<table border=\"1\" class=\"dataframe\">\n",
              "  <thead>\n",
              "    <tr style=\"text-align: right;\">\n",
              "      <th></th>\n",
              "      <th>0</th>\n",
              "    </tr>\n",
              "  </thead>\n",
              "  <tbody>\n",
              "    <tr>\n",
              "      <th>job_title</th>\n",
              "      <td>3</td>\n",
              "    </tr>\n",
              "    <tr>\n",
              "      <th>seniority_level</th>\n",
              "      <td>58</td>\n",
              "    </tr>\n",
              "    <tr>\n",
              "      <th>status</th>\n",
              "      <td>253</td>\n",
              "    </tr>\n",
              "    <tr>\n",
              "      <th>company</th>\n",
              "      <td>0</td>\n",
              "    </tr>\n",
              "    <tr>\n",
              "      <th>location</th>\n",
              "      <td>0</td>\n",
              "    </tr>\n",
              "    <tr>\n",
              "      <th>headquarter</th>\n",
              "      <td>0</td>\n",
              "    </tr>\n",
              "    <tr>\n",
              "      <th>industry</th>\n",
              "      <td>0</td>\n",
              "    </tr>\n",
              "    <tr>\n",
              "      <th>ownership</th>\n",
              "      <td>32</td>\n",
              "    </tr>\n",
              "    <tr>\n",
              "      <th>company_size</th>\n",
              "      <td>38</td>\n",
              "    </tr>\n",
              "    <tr>\n",
              "      <th>revenue</th>\n",
              "      <td>517</td>\n",
              "    </tr>\n",
              "    <tr>\n",
              "      <th>skills</th>\n",
              "      <td>0</td>\n",
              "    </tr>\n",
              "    <tr>\n",
              "      <th>min_salary</th>\n",
              "      <td>0</td>\n",
              "    </tr>\n",
              "    <tr>\n",
              "      <th>max_salary</th>\n",
              "      <td>0</td>\n",
              "    </tr>\n",
              "    <tr>\n",
              "      <th>mean_salary</th>\n",
              "      <td>0</td>\n",
              "    </tr>\n",
              "  </tbody>\n",
              "</table>\n",
              "</div><br><label><b>dtype:</b> int64</label>"
            ]
          },
          "metadata": {},
          "execution_count": 5
        }
      ]
    },
    {
      "cell_type": "code",
      "source": [
        "df.describe(include='all')"
      ],
      "metadata": {
        "colab": {
          "base_uri": "https://localhost:8080/",
          "height": 431
        },
        "id": "hQkIdJJ3FoTz",
        "outputId": "37ee8e5b-9e24-409e-a5df-7098ccdff014"
      },
      "execution_count": null,
      "outputs": [
        {
          "output_type": "execute_result",
          "data": {
            "text/plain": [
              "             job_title seniority_level   status      company       location  \\\n",
              "count              935             880      685          938            938   \n",
              "unique               4               4        3          417              7   \n",
              "top     data scientist          senior  on-site  company_134  United States   \n",
              "freq               853             627      363           30            566   \n",
              "mean               NaN             NaN      NaN          NaN            NaN   \n",
              "std                NaN             NaN      NaN          NaN            NaN   \n",
              "min                NaN             NaN      NaN          NaN            NaN   \n",
              "25%                NaN             NaN      NaN          NaN            NaN   \n",
              "50%                NaN             NaN      NaN          NaN            NaN   \n",
              "75%                NaN             NaN      NaN          NaN            NaN   \n",
              "max                NaN             NaN      NaN          NaN            NaN   \n",
              "\n",
              "          headquarter    industry ownership   company_size       revenue  \\\n",
              "count             938         938       906     900.000000  4.210000e+02   \n",
              "unique              5           8         2            NaN           NaN   \n",
              "top     United States  Technology    Public            NaN           NaN   \n",
              "freq              768         576       579            NaN           NaN   \n",
              "mean              NaN         NaN       NaN   97825.651111  1.645563e+11   \n",
              "std               NaN         NaN       NaN  185069.173560  2.159307e+11   \n",
              "min               NaN         NaN       NaN       5.000000  9.133300e+08   \n",
              "25%               NaN         NaN       NaN    1795.000000  2.653000e+10   \n",
              "50%               NaN         NaN       NaN   20335.000000  8.220000e+10   \n",
              "75%               NaN         NaN       NaN   94570.000000  2.303700e+11   \n",
              "max               NaN         NaN       NaN  865476.000000  8.390800e+11   \n",
              "\n",
              "       skills    min_salary    max_salary   mean_salary  \n",
              "count     938  9.380000e+02  9.380000e+02  9.380000e+02  \n",
              "unique    399           NaN           NaN           NaN  \n",
              "top        []           NaN           NaN           NaN  \n",
              "freq      196           NaN           NaN           NaN  \n",
              "mean      NaN  1.144924e+05  1.489748e+05  1.317336e+05  \n",
              "std       NaN  1.265327e+05  1.343738e+05  1.290955e+05  \n",
              "min       NaN  4.055000e+03  7.678000e+03  7.055000e+03  \n",
              "25%       NaN  6.841600e+04  8.237150e+04  7.646000e+04  \n",
              "50%       NaN  1.104005e+05  1.512265e+05  1.347225e+05  \n",
              "75%       NaN  1.461390e+05  2.009360e+05  1.697328e+05  \n",
              "max       NaN  2.739979e+06  2.739979e+06  2.739979e+06  "
            ],
            "text/html": [
              "\n",
              "  <div id=\"df-8377fab2-0395-4311-b327-1ae74e820cbf\" class=\"colab-df-container\">\n",
              "    <div>\n",
              "<style scoped>\n",
              "    .dataframe tbody tr th:only-of-type {\n",
              "        vertical-align: middle;\n",
              "    }\n",
              "\n",
              "    .dataframe tbody tr th {\n",
              "        vertical-align: top;\n",
              "    }\n",
              "\n",
              "    .dataframe thead th {\n",
              "        text-align: right;\n",
              "    }\n",
              "</style>\n",
              "<table border=\"1\" class=\"dataframe\">\n",
              "  <thead>\n",
              "    <tr style=\"text-align: right;\">\n",
              "      <th></th>\n",
              "      <th>job_title</th>\n",
              "      <th>seniority_level</th>\n",
              "      <th>status</th>\n",
              "      <th>company</th>\n",
              "      <th>location</th>\n",
              "      <th>headquarter</th>\n",
              "      <th>industry</th>\n",
              "      <th>ownership</th>\n",
              "      <th>company_size</th>\n",
              "      <th>revenue</th>\n",
              "      <th>skills</th>\n",
              "      <th>min_salary</th>\n",
              "      <th>max_salary</th>\n",
              "      <th>mean_salary</th>\n",
              "    </tr>\n",
              "  </thead>\n",
              "  <tbody>\n",
              "    <tr>\n",
              "      <th>count</th>\n",
              "      <td>935</td>\n",
              "      <td>880</td>\n",
              "      <td>685</td>\n",
              "      <td>938</td>\n",
              "      <td>938</td>\n",
              "      <td>938</td>\n",
              "      <td>938</td>\n",
              "      <td>906</td>\n",
              "      <td>900.000000</td>\n",
              "      <td>4.210000e+02</td>\n",
              "      <td>938</td>\n",
              "      <td>9.380000e+02</td>\n",
              "      <td>9.380000e+02</td>\n",
              "      <td>9.380000e+02</td>\n",
              "    </tr>\n",
              "    <tr>\n",
              "      <th>unique</th>\n",
              "      <td>4</td>\n",
              "      <td>4</td>\n",
              "      <td>3</td>\n",
              "      <td>417</td>\n",
              "      <td>7</td>\n",
              "      <td>5</td>\n",
              "      <td>8</td>\n",
              "      <td>2</td>\n",
              "      <td>NaN</td>\n",
              "      <td>NaN</td>\n",
              "      <td>399</td>\n",
              "      <td>NaN</td>\n",
              "      <td>NaN</td>\n",
              "      <td>NaN</td>\n",
              "    </tr>\n",
              "    <tr>\n",
              "      <th>top</th>\n",
              "      <td>data scientist</td>\n",
              "      <td>senior</td>\n",
              "      <td>on-site</td>\n",
              "      <td>company_134</td>\n",
              "      <td>United States</td>\n",
              "      <td>United States</td>\n",
              "      <td>Technology</td>\n",
              "      <td>Public</td>\n",
              "      <td>NaN</td>\n",
              "      <td>NaN</td>\n",
              "      <td>[]</td>\n",
              "      <td>NaN</td>\n",
              "      <td>NaN</td>\n",
              "      <td>NaN</td>\n",
              "    </tr>\n",
              "    <tr>\n",
              "      <th>freq</th>\n",
              "      <td>853</td>\n",
              "      <td>627</td>\n",
              "      <td>363</td>\n",
              "      <td>30</td>\n",
              "      <td>566</td>\n",
              "      <td>768</td>\n",
              "      <td>576</td>\n",
              "      <td>579</td>\n",
              "      <td>NaN</td>\n",
              "      <td>NaN</td>\n",
              "      <td>196</td>\n",
              "      <td>NaN</td>\n",
              "      <td>NaN</td>\n",
              "      <td>NaN</td>\n",
              "    </tr>\n",
              "    <tr>\n",
              "      <th>mean</th>\n",
              "      <td>NaN</td>\n",
              "      <td>NaN</td>\n",
              "      <td>NaN</td>\n",
              "      <td>NaN</td>\n",
              "      <td>NaN</td>\n",
              "      <td>NaN</td>\n",
              "      <td>NaN</td>\n",
              "      <td>NaN</td>\n",
              "      <td>97825.651111</td>\n",
              "      <td>1.645563e+11</td>\n",
              "      <td>NaN</td>\n",
              "      <td>1.144924e+05</td>\n",
              "      <td>1.489748e+05</td>\n",
              "      <td>1.317336e+05</td>\n",
              "    </tr>\n",
              "    <tr>\n",
              "      <th>std</th>\n",
              "      <td>NaN</td>\n",
              "      <td>NaN</td>\n",
              "      <td>NaN</td>\n",
              "      <td>NaN</td>\n",
              "      <td>NaN</td>\n",
              "      <td>NaN</td>\n",
              "      <td>NaN</td>\n",
              "      <td>NaN</td>\n",
              "      <td>185069.173560</td>\n",
              "      <td>2.159307e+11</td>\n",
              "      <td>NaN</td>\n",
              "      <td>1.265327e+05</td>\n",
              "      <td>1.343738e+05</td>\n",
              "      <td>1.290955e+05</td>\n",
              "    </tr>\n",
              "    <tr>\n",
              "      <th>min</th>\n",
              "      <td>NaN</td>\n",
              "      <td>NaN</td>\n",
              "      <td>NaN</td>\n",
              "      <td>NaN</td>\n",
              "      <td>NaN</td>\n",
              "      <td>NaN</td>\n",
              "      <td>NaN</td>\n",
              "      <td>NaN</td>\n",
              "      <td>5.000000</td>\n",
              "      <td>9.133300e+08</td>\n",
              "      <td>NaN</td>\n",
              "      <td>4.055000e+03</td>\n",
              "      <td>7.678000e+03</td>\n",
              "      <td>7.055000e+03</td>\n",
              "    </tr>\n",
              "    <tr>\n",
              "      <th>25%</th>\n",
              "      <td>NaN</td>\n",
              "      <td>NaN</td>\n",
              "      <td>NaN</td>\n",
              "      <td>NaN</td>\n",
              "      <td>NaN</td>\n",
              "      <td>NaN</td>\n",
              "      <td>NaN</td>\n",
              "      <td>NaN</td>\n",
              "      <td>1795.000000</td>\n",
              "      <td>2.653000e+10</td>\n",
              "      <td>NaN</td>\n",
              "      <td>6.841600e+04</td>\n",
              "      <td>8.237150e+04</td>\n",
              "      <td>7.646000e+04</td>\n",
              "    </tr>\n",
              "    <tr>\n",
              "      <th>50%</th>\n",
              "      <td>NaN</td>\n",
              "      <td>NaN</td>\n",
              "      <td>NaN</td>\n",
              "      <td>NaN</td>\n",
              "      <td>NaN</td>\n",
              "      <td>NaN</td>\n",
              "      <td>NaN</td>\n",
              "      <td>NaN</td>\n",
              "      <td>20335.000000</td>\n",
              "      <td>8.220000e+10</td>\n",
              "      <td>NaN</td>\n",
              "      <td>1.104005e+05</td>\n",
              "      <td>1.512265e+05</td>\n",
              "      <td>1.347225e+05</td>\n",
              "    </tr>\n",
              "    <tr>\n",
              "      <th>75%</th>\n",
              "      <td>NaN</td>\n",
              "      <td>NaN</td>\n",
              "      <td>NaN</td>\n",
              "      <td>NaN</td>\n",
              "      <td>NaN</td>\n",
              "      <td>NaN</td>\n",
              "      <td>NaN</td>\n",
              "      <td>NaN</td>\n",
              "      <td>94570.000000</td>\n",
              "      <td>2.303700e+11</td>\n",
              "      <td>NaN</td>\n",
              "      <td>1.461390e+05</td>\n",
              "      <td>2.009360e+05</td>\n",
              "      <td>1.697328e+05</td>\n",
              "    </tr>\n",
              "    <tr>\n",
              "      <th>max</th>\n",
              "      <td>NaN</td>\n",
              "      <td>NaN</td>\n",
              "      <td>NaN</td>\n",
              "      <td>NaN</td>\n",
              "      <td>NaN</td>\n",
              "      <td>NaN</td>\n",
              "      <td>NaN</td>\n",
              "      <td>NaN</td>\n",
              "      <td>865476.000000</td>\n",
              "      <td>8.390800e+11</td>\n",
              "      <td>NaN</td>\n",
              "      <td>2.739979e+06</td>\n",
              "      <td>2.739979e+06</td>\n",
              "      <td>2.739979e+06</td>\n",
              "    </tr>\n",
              "  </tbody>\n",
              "</table>\n",
              "</div>\n",
              "    <div class=\"colab-df-buttons\">\n",
              "\n",
              "  <div class=\"colab-df-container\">\n",
              "    <button class=\"colab-df-convert\" onclick=\"convertToInteractive('df-8377fab2-0395-4311-b327-1ae74e820cbf')\"\n",
              "            title=\"Convert this dataframe to an interactive table.\"\n",
              "            style=\"display:none;\">\n",
              "\n",
              "  <svg xmlns=\"http://www.w3.org/2000/svg\" height=\"24px\" viewBox=\"0 -960 960 960\">\n",
              "    <path d=\"M120-120v-720h720v720H120Zm60-500h600v-160H180v160Zm220 220h160v-160H400v160Zm0 220h160v-160H400v160ZM180-400h160v-160H180v160Zm440 0h160v-160H620v160ZM180-180h160v-160H180v160Zm440 0h160v-160H620v160Z\"/>\n",
              "  </svg>\n",
              "    </button>\n",
              "\n",
              "  <style>\n",
              "    .colab-df-container {\n",
              "      display:flex;\n",
              "      gap: 12px;\n",
              "    }\n",
              "\n",
              "    .colab-df-convert {\n",
              "      background-color: #E8F0FE;\n",
              "      border: none;\n",
              "      border-radius: 50%;\n",
              "      cursor: pointer;\n",
              "      display: none;\n",
              "      fill: #1967D2;\n",
              "      height: 32px;\n",
              "      padding: 0 0 0 0;\n",
              "      width: 32px;\n",
              "    }\n",
              "\n",
              "    .colab-df-convert:hover {\n",
              "      background-color: #E2EBFA;\n",
              "      box-shadow: 0px 1px 2px rgba(60, 64, 67, 0.3), 0px 1px 3px 1px rgba(60, 64, 67, 0.15);\n",
              "      fill: #174EA6;\n",
              "    }\n",
              "\n",
              "    .colab-df-buttons div {\n",
              "      margin-bottom: 4px;\n",
              "    }\n",
              "\n",
              "    [theme=dark] .colab-df-convert {\n",
              "      background-color: #3B4455;\n",
              "      fill: #D2E3FC;\n",
              "    }\n",
              "\n",
              "    [theme=dark] .colab-df-convert:hover {\n",
              "      background-color: #434B5C;\n",
              "      box-shadow: 0px 1px 3px 1px rgba(0, 0, 0, 0.15);\n",
              "      filter: drop-shadow(0px 1px 2px rgba(0, 0, 0, 0.3));\n",
              "      fill: #FFFFFF;\n",
              "    }\n",
              "  </style>\n",
              "\n",
              "    <script>\n",
              "      const buttonEl =\n",
              "        document.querySelector('#df-8377fab2-0395-4311-b327-1ae74e820cbf button.colab-df-convert');\n",
              "      buttonEl.style.display =\n",
              "        google.colab.kernel.accessAllowed ? 'block' : 'none';\n",
              "\n",
              "      async function convertToInteractive(key) {\n",
              "        const element = document.querySelector('#df-8377fab2-0395-4311-b327-1ae74e820cbf');\n",
              "        const dataTable =\n",
              "          await google.colab.kernel.invokeFunction('convertToInteractive',\n",
              "                                                    [key], {});\n",
              "        if (!dataTable) return;\n",
              "\n",
              "        const docLinkHtml = 'Like what you see? Visit the ' +\n",
              "          '<a target=\"_blank\" href=https://colab.research.google.com/notebooks/data_table.ipynb>data table notebook</a>'\n",
              "          + ' to learn more about interactive tables.';\n",
              "        element.innerHTML = '';\n",
              "        dataTable['output_type'] = 'display_data';\n",
              "        await google.colab.output.renderOutput(dataTable, element);\n",
              "        const docLink = document.createElement('div');\n",
              "        docLink.innerHTML = docLinkHtml;\n",
              "        element.appendChild(docLink);\n",
              "      }\n",
              "    </script>\n",
              "  </div>\n",
              "\n",
              "\n",
              "    <div id=\"df-83b55869-65ac-4bd2-abf4-ae9a3f40caf5\">\n",
              "      <button class=\"colab-df-quickchart\" onclick=\"quickchart('df-83b55869-65ac-4bd2-abf4-ae9a3f40caf5')\"\n",
              "                title=\"Suggest charts\"\n",
              "                style=\"display:none;\">\n",
              "\n",
              "<svg xmlns=\"http://www.w3.org/2000/svg\" height=\"24px\"viewBox=\"0 0 24 24\"\n",
              "     width=\"24px\">\n",
              "    <g>\n",
              "        <path d=\"M19 3H5c-1.1 0-2 .9-2 2v14c0 1.1.9 2 2 2h14c1.1 0 2-.9 2-2V5c0-1.1-.9-2-2-2zM9 17H7v-7h2v7zm4 0h-2V7h2v10zm4 0h-2v-4h2v4z\"/>\n",
              "    </g>\n",
              "</svg>\n",
              "      </button>\n",
              "\n",
              "<style>\n",
              "  .colab-df-quickchart {\n",
              "      --bg-color: #E8F0FE;\n",
              "      --fill-color: #1967D2;\n",
              "      --hover-bg-color: #E2EBFA;\n",
              "      --hover-fill-color: #174EA6;\n",
              "      --disabled-fill-color: #AAA;\n",
              "      --disabled-bg-color: #DDD;\n",
              "  }\n",
              "\n",
              "  [theme=dark] .colab-df-quickchart {\n",
              "      --bg-color: #3B4455;\n",
              "      --fill-color: #D2E3FC;\n",
              "      --hover-bg-color: #434B5C;\n",
              "      --hover-fill-color: #FFFFFF;\n",
              "      --disabled-bg-color: #3B4455;\n",
              "      --disabled-fill-color: #666;\n",
              "  }\n",
              "\n",
              "  .colab-df-quickchart {\n",
              "    background-color: var(--bg-color);\n",
              "    border: none;\n",
              "    border-radius: 50%;\n",
              "    cursor: pointer;\n",
              "    display: none;\n",
              "    fill: var(--fill-color);\n",
              "    height: 32px;\n",
              "    padding: 0;\n",
              "    width: 32px;\n",
              "  }\n",
              "\n",
              "  .colab-df-quickchart:hover {\n",
              "    background-color: var(--hover-bg-color);\n",
              "    box-shadow: 0 1px 2px rgba(60, 64, 67, 0.3), 0 1px 3px 1px rgba(60, 64, 67, 0.15);\n",
              "    fill: var(--button-hover-fill-color);\n",
              "  }\n",
              "\n",
              "  .colab-df-quickchart-complete:disabled,\n",
              "  .colab-df-quickchart-complete:disabled:hover {\n",
              "    background-color: var(--disabled-bg-color);\n",
              "    fill: var(--disabled-fill-color);\n",
              "    box-shadow: none;\n",
              "  }\n",
              "\n",
              "  .colab-df-spinner {\n",
              "    border: 2px solid var(--fill-color);\n",
              "    border-color: transparent;\n",
              "    border-bottom-color: var(--fill-color);\n",
              "    animation:\n",
              "      spin 1s steps(1) infinite;\n",
              "  }\n",
              "\n",
              "  @keyframes spin {\n",
              "    0% {\n",
              "      border-color: transparent;\n",
              "      border-bottom-color: var(--fill-color);\n",
              "      border-left-color: var(--fill-color);\n",
              "    }\n",
              "    20% {\n",
              "      border-color: transparent;\n",
              "      border-left-color: var(--fill-color);\n",
              "      border-top-color: var(--fill-color);\n",
              "    }\n",
              "    30% {\n",
              "      border-color: transparent;\n",
              "      border-left-color: var(--fill-color);\n",
              "      border-top-color: var(--fill-color);\n",
              "      border-right-color: var(--fill-color);\n",
              "    }\n",
              "    40% {\n",
              "      border-color: transparent;\n",
              "      border-right-color: var(--fill-color);\n",
              "      border-top-color: var(--fill-color);\n",
              "    }\n",
              "    60% {\n",
              "      border-color: transparent;\n",
              "      border-right-color: var(--fill-color);\n",
              "    }\n",
              "    80% {\n",
              "      border-color: transparent;\n",
              "      border-right-color: var(--fill-color);\n",
              "      border-bottom-color: var(--fill-color);\n",
              "    }\n",
              "    90% {\n",
              "      border-color: transparent;\n",
              "      border-bottom-color: var(--fill-color);\n",
              "    }\n",
              "  }\n",
              "</style>\n",
              "\n",
              "      <script>\n",
              "        async function quickchart(key) {\n",
              "          const quickchartButtonEl =\n",
              "            document.querySelector('#' + key + ' button');\n",
              "          quickchartButtonEl.disabled = true;  // To prevent multiple clicks.\n",
              "          quickchartButtonEl.classList.add('colab-df-spinner');\n",
              "          try {\n",
              "            const charts = await google.colab.kernel.invokeFunction(\n",
              "                'suggestCharts', [key], {});\n",
              "          } catch (error) {\n",
              "            console.error('Error during call to suggestCharts:', error);\n",
              "          }\n",
              "          quickchartButtonEl.classList.remove('colab-df-spinner');\n",
              "          quickchartButtonEl.classList.add('colab-df-quickchart-complete');\n",
              "        }\n",
              "        (() => {\n",
              "          let quickchartButtonEl =\n",
              "            document.querySelector('#df-83b55869-65ac-4bd2-abf4-ae9a3f40caf5 button');\n",
              "          quickchartButtonEl.style.display =\n",
              "            google.colab.kernel.accessAllowed ? 'block' : 'none';\n",
              "        })();\n",
              "      </script>\n",
              "    </div>\n",
              "\n",
              "    </div>\n",
              "  </div>\n"
            ],
            "application/vnd.google.colaboratory.intrinsic+json": {
              "type": "dataframe",
              "summary": "{\n  \"name\": \"df_features\",\n  \"rows\": 11,\n  \"fields\": [\n    {\n      \"column\": \"job_title\",\n      \"properties\": {\n        \"dtype\": \"category\",\n        \"num_unique_values\": 4,\n        \"samples\": [\n          4,\n          \"853\",\n          \"935\"\n        ],\n        \"semantic_type\": \"\",\n        \"description\": \"\"\n      }\n    },\n    {\n      \"column\": \"seniority_level\",\n      \"properties\": {\n        \"dtype\": \"category\",\n        \"num_unique_values\": 4,\n        \"samples\": [\n          4,\n          \"627\",\n          \"880\"\n        ],\n        \"semantic_type\": \"\",\n        \"description\": \"\"\n      }\n    },\n    {\n      \"column\": \"status\",\n      \"properties\": {\n        \"dtype\": \"category\",\n        \"num_unique_values\": 4,\n        \"samples\": [\n          3,\n          \"363\",\n          \"685\"\n        ],\n        \"semantic_type\": \"\",\n        \"description\": \"\"\n      }\n    },\n    {\n      \"column\": \"company\",\n      \"properties\": {\n        \"dtype\": \"category\",\n        \"num_unique_values\": 4,\n        \"samples\": [\n          417,\n          \"30\",\n          \"938\"\n        ],\n        \"semantic_type\": \"\",\n        \"description\": \"\"\n      }\n    },\n    {\n      \"column\": \"location\",\n      \"properties\": {\n        \"dtype\": \"category\",\n        \"num_unique_values\": 4,\n        \"samples\": [\n          7,\n          \"566\",\n          \"938\"\n        ],\n        \"semantic_type\": \"\",\n        \"description\": \"\"\n      }\n    },\n    {\n      \"column\": \"headquarter\",\n      \"properties\": {\n        \"dtype\": \"category\",\n        \"num_unique_values\": 4,\n        \"samples\": [\n          5,\n          \"768\",\n          \"938\"\n        ],\n        \"semantic_type\": \"\",\n        \"description\": \"\"\n      }\n    },\n    {\n      \"column\": \"industry\",\n      \"properties\": {\n        \"dtype\": \"category\",\n        \"num_unique_values\": 4,\n        \"samples\": [\n          8,\n          \"576\",\n          \"938\"\n        ],\n        \"semantic_type\": \"\",\n        \"description\": \"\"\n      }\n    },\n    {\n      \"column\": \"ownership\",\n      \"properties\": {\n        \"dtype\": \"category\",\n        \"num_unique_values\": 4,\n        \"samples\": [\n          2,\n          \"579\",\n          \"906\"\n        ],\n        \"semantic_type\": \"\",\n        \"description\": \"\"\n      }\n    },\n    {\n      \"column\": \"company_size\",\n      \"properties\": {\n        \"dtype\": \"number\",\n        \"std\": 293231.5867284588,\n        \"min\": 5.0,\n        \"max\": 865476.0,\n        \"num_unique_values\": 8,\n        \"samples\": [\n          97825.65111111112,\n          20335.0,\n          900.0\n        ],\n        \"semantic_type\": \"\",\n        \"description\": \"\"\n      }\n    },\n    {\n      \"column\": \"revenue\",\n      \"properties\": {\n        \"dtype\": \"number\",\n        \"std\": 276264777556.86926,\n        \"min\": 421.0,\n        \"max\": 839080000000.0,\n        \"num_unique_values\": 8,\n        \"samples\": [\n          164556318242.28027,\n          82200000000.0,\n          421.0\n        ],\n        \"semantic_type\": \"\",\n        \"description\": \"\"\n      }\n    },\n    {\n      \"column\": \"skills\",\n      \"properties\": {\n        \"dtype\": \"category\",\n        \"num_unique_values\": 4,\n        \"samples\": [\n          399,\n          \"196\",\n          \"938\"\n        ],\n        \"semantic_type\": \"\",\n        \"description\": \"\"\n      }\n    },\n    {\n      \"column\": \"min_salary\",\n      \"properties\": {\n        \"dtype\": \"number\",\n        \"std\": 941468.9148272205,\n        \"min\": 938.0,\n        \"max\": 2739979.0,\n        \"num_unique_values\": 8,\n        \"samples\": [\n          114492.43176972281,\n          110400.5,\n          938.0\n        ],\n        \"semantic_type\": \"\",\n        \"description\": \"\"\n      }\n    },\n    {\n      \"column\": \"max_salary\",\n      \"properties\": {\n        \"dtype\": \"number\",\n        \"std\": 934708.9688502185,\n        \"min\": 938.0,\n        \"max\": 2739979.0,\n        \"num_unique_values\": 8,\n        \"samples\": [\n          148974.81236673775,\n          151226.5,\n          938.0\n        ],\n        \"semantic_type\": \"\",\n        \"description\": \"\"\n      }\n    },\n    {\n      \"column\": \"mean_salary\",\n      \"properties\": {\n        \"dtype\": \"number\",\n        \"std\": 937937.5800913661,\n        \"min\": 938.0,\n        \"max\": 2739979.0,\n        \"num_unique_values\": 8,\n        \"samples\": [\n          131733.62206823027,\n          134722.5,\n          938.0\n        ],\n        \"semantic_type\": \"\",\n        \"description\": \"\"\n      }\n    }\n  ]\n}"
            }
          },
          "metadata": {},
          "execution_count": 6
        }
      ]
    },
    {
      "cell_type": "markdown",
      "source": [
        "# **Utils**"
      ],
      "metadata": {
        "id": "WReNQ3qZIXkr"
      }
    },
    {
      "cell_type": "markdown",
      "source": [
        "## Helper Functions"
      ],
      "metadata": {
        "id": "sOFJ8d0Sh_K-"
      }
    },
    {
      "cell_type": "code",
      "source": [
        "def remove_outliers_iqr(data, column):\n",
        "    \"\"\"\n",
        "    Removes outliers from a pandas DataFrame column using the IQR method.\n",
        "\n",
        "    Parameters:\n",
        "    -----------\n",
        "    data : pd.DataFrame\n",
        "        The input DataFrame\n",
        "    column : str\n",
        "        The column name on which to apply the IQR filter\n",
        "\n",
        "    Returns:\n",
        "    --------\n",
        "    pd.Series : Cleaned data (outliers removed)\n",
        "    \"\"\"\n",
        "    Q1 = data[column].quantile(0.25)\n",
        "    Q3 = data[column].quantile(0.75)\n",
        "    IQR = Q3 - Q1\n",
        "\n",
        "    lower_bound = Q1 - 1.5 * IQR\n",
        "    upper_bound = Q3 + 1.5 * IQR\n",
        "\n",
        "    cleaned = data[(data[column] >= lower_bound) & (data[column] <= upper_bound)]\n",
        "    return cleaned"
      ],
      "metadata": {
        "id": "I_5TEeO2iERr"
      },
      "execution_count": 3,
      "outputs": []
    },
    {
      "cell_type": "markdown",
      "source": [
        "## Plot's Functions"
      ],
      "metadata": {
        "id": "26C-kY8bs5c8"
      }
    },
    {
      "cell_type": "code",
      "source": [
        "def plot_numerical_histogram(df: pd.DataFrame,\n",
        "                             col: str,\n",
        "                             x_label: str,\n",
        "                             title: str,\n",
        "                             ):\n",
        "  plt.rcParams[\"font.size\"] = 14\n",
        "  fig, (ax_hist, ax_box) = plt.subplots(\n",
        "      2, sharex=True, gridspec_kw={\"height_ratios\": (0.85, 0.15)}, figsize=(16, 8)\n",
        "  )\n",
        "  # boxplot (seaborn)\n",
        "  sns.boxplot(x=df[col], color=\"gray\", ax=ax_box)\n",
        "  ax_box.set(xlabel=\"\")\n",
        "  # histogram (matplotlib)\n",
        "  ax_hist.hist(df[col], bins=40, density=True, color=\"gray\")\n",
        "  # kde plot (pandas series)\n",
        "  min_, max_ = plt.xlim()\n",
        "  plt.xlim(min_, max_)\n",
        "\n",
        "  ax_hist.set_title(\n",
        "      title,\n",
        "      weight=\"bold\",\n",
        "      color=\"gray\",\n",
        "      fontsize=18,\n",
        "      loc=\"left\",\n",
        "  )\n",
        "\n",
        "  ax_hist.set_xlabel(x_label, loc=\"left\", weight=\"bold\", fontsize=14, color=\"gray\")\n",
        "\n",
        "  ax_hist.set_ylabel(\n",
        "      \"Density\",\n",
        "      loc=\"bottom\",\n",
        "      weight=\"bold\",\n",
        "      fontsize=14,\n",
        "      color=\"gray\",\n",
        "  )\n",
        "\n",
        "  ax_box.spines[[\"right\", \"top\", \"left\", \"bottom\"]].set_visible(False)\n",
        "\n",
        "  ax_hist.spines[[\"right\", \"top\"]].set_visible(False)\n",
        "  ax_hist.ticklabel_format(axis=\"x\", style=\"plain\")\n",
        "  ax_hist.tick_params(axis=\"x\", colors=\"gray\", labelsize=\"large\")\n",
        "  ax_hist.tick_params(axis=\"y\", colors=\"gray\", labelsize=\"large\")\n",
        "\n",
        "  df[col].plot.kde(color=\"lightcoral\", linewidth=3, ax=ax_hist)\n",
        "\n",
        "  plt.tight_layout()\n",
        "  plt.show()"
      ],
      "metadata": {
        "id": "2mj7dowds90B"
      },
      "execution_count": 4,
      "outputs": []
    },
    {
      "cell_type": "markdown",
      "source": [
        "# **Checking Assumptions**"
      ],
      "metadata": {
        "id": "RGAx0ikyHzO-"
      }
    },
    {
      "cell_type": "code",
      "source": [
        "plot_numerical_histogram(df=df,\n",
        "                         col=\"mean_salary\",\n",
        "                         x_label=\"mean_salary\",\n",
        "                         title=\"Mean salary histogram\",\n",
        "                         )"
      ],
      "metadata": {
        "colab": {
          "base_uri": "https://localhost:8080/",
          "height": 685
        },
        "id": "pUik6rQaHu6B",
        "outputId": "ce00233d-1c99-4807-c645-40625b2d11ea"
      },
      "execution_count": 6,
      "outputs": [
        {
          "output_type": "display_data",
          "data": {
            "text/plain": [
              "<Figure size 1600x800 with 2 Axes>"
            ],
            "image/png": "[encoded data removed]"
          },
          "metadata": {}
        }
      ]
    },
    {
      "cell_type": "markdown",
      "source": [
        "From the histogram + boxplot, we can see:\n",
        "* Most mean_salary values fall below ~$300k.\n",
        "\n",
        "* A few extreme outliers exist (in the $600k–$2.5M range).\n",
        "\n",
        "Parametric tests work well if distribution is roughly symmetric and outliers are handled. With 𝑛 = 938, CLT makes it very robust, even if slightly skewed. So we can go ahead with parametric test. First we apply IQR filtering (drop values > Q3 + 1.5*IQR, which should cut those million-dollar salaries) & then run the t-test on cleaned data."
      ],
      "metadata": {
        "id": "SbkamLB0AElR"
      }
    },
    {
      "cell_type": "markdown",
      "source": [
        "# **Data Cleaning**"
      ],
      "metadata": {
        "id": "i0ax6WX4EbTB"
      }
    },
    {
      "cell_type": "code",
      "source": [
        "df_clean = remove_outliers_iqr(df, \"mean_salary\")\n",
        "\n",
        "print(\"Original size:\", df[\"mean_salary\"].notna().sum())\n",
        "print(\"After IQR cleaning:\", df_clean.shape[0])\n",
        "print(\"Cleaned mean salary:\", df_clean['mean_salary'].mean())"
      ],
      "metadata": {
        "colab": {
          "base_uri": "https://localhost:8080/"
        },
        "id": "NVv6A0JGEjzx",
        "outputId": "adfecbbb-c910-4c44-e32e-bd5ff004ecdf"
      },
      "execution_count": 5,
      "outputs": [
        {
          "output_type": "stream",
          "name": "stdout",
          "text": [
            "Original size: 938\n",
            "After IQR cleaning: 935\n",
            "Cleaned mean salary: 126099.98770053477\n"
          ]
        }
      ]
    },
    {
      "cell_type": "code",
      "source": [
        "# Approximate exchange rate (Euros to US Dollars)\n",
        "exchange_rate_eur_usd = 1.08\n",
        "\n",
        "# Convert mean_salary from Euros to US Dollars\n",
        "df_clean['mean_salary_usd'] = df_clean['mean_salary'] * exchange_rate_eur_usd\n",
        "\n",
        "# Display the first few rows with the new column\n",
        "display(df_clean[['mean_salary', 'mean_salary_usd']].head())"
      ],
      "metadata": {
        "colab": {
          "base_uri": "https://localhost:8080/",
          "height": 310
        },
        "id": "eI5ufQLHclu5",
        "outputId": "c5a60140-faee-4864-bb8d-8cc0080d5ef4"
      },
      "execution_count": 6,
      "outputs": [
        {
          "output_type": "stream",
          "name": "stderr",
          "text": [
            "/tmp/ipython-input-2569314541.py:5: SettingWithCopyWarning: \n",
            "A value is trying to be set on a copy of a slice from a DataFrame.\n",
            "Try using .loc[row_indexer,col_indexer] = value instead\n",
            "\n",
            "See the caveats in the documentation: https://pandas.pydata.org/pandas-docs/stable/user_guide/indexing.html#returning-a-view-versus-a-copy\n",
            "  df_clean['mean_salary_usd'] = df_clean['mean_salary'] * exchange_rate_eur_usd\n"
          ]
        },
        {
          "output_type": "display_data",
          "data": {
            "text/plain": [
              "   mean_salary  mean_salary_usd\n",
              "0     150705.0        162761.40\n",
              "1     118733.0        128231.64\n",
              "2     127273.0        137454.84\n",
              "3     153599.5        165887.46\n",
              "4     171254.5        184954.86"
            ],
            "text/html": [
              "\n",
              "  <div id=\"df-c71e7c4b-f2fe-46b0-8bb8-7d9c52441525\" class=\"colab-df-container\">\n",
              "    <div>\n",
              "<style scoped>\n",
              "    .dataframe tbody tr th:only-of-type {\n",
              "        vertical-align: middle;\n",
              "    }\n",
              "\n",
              "    .dataframe tbody tr th {\n",
              "        vertical-align: top;\n",
              "    }\n",
              "\n",
              "    .dataframe thead th {\n",
              "        text-align: right;\n",
              "    }\n",
              "</style>\n",
              "<table border=\"1\" class=\"dataframe\">\n",
              "  <thead>\n",
              "    <tr style=\"text-align: right;\">\n",
              "      <th></th>\n",
              "      <th>mean_salary</th>\n",
              "      <th>mean_salary_usd</th>\n",
              "    </tr>\n",
              "  </thead>\n",
              "  <tbody>\n",
              "    <tr>\n",
              "      <th>0</th>\n",
              "      <td>150705.0</td>\n",
              "      <td>162761.40</td>\n",
              "    </tr>\n",
              "    <tr>\n",
              "      <th>1</th>\n",
              "      <td>118733.0</td>\n",
              "      <td>128231.64</td>\n",
              "    </tr>\n",
              "    <tr>\n",
              "      <th>2</th>\n",
              "      <td>127273.0</td>\n",
              "      <td>137454.84</td>\n",
              "    </tr>\n",
              "    <tr>\n",
              "      <th>3</th>\n",
              "      <td>153599.5</td>\n",
              "      <td>165887.46</td>\n",
              "    </tr>\n",
              "    <tr>\n",
              "      <th>4</th>\n",
              "      <td>171254.5</td>\n",
              "      <td>184954.86</td>\n",
              "    </tr>\n",
              "  </tbody>\n",
              "</table>\n",
              "</div>\n",
              "    <div class=\"colab-df-buttons\">\n",
              "\n",
              "  <div class=\"colab-df-container\">\n",
              "    <button class=\"colab-df-convert\" onclick=\"convertToInteractive('df-c71e7c4b-f2fe-46b0-8bb8-7d9c52441525')\"\n",
              "            title=\"Convert this dataframe to an interactive table.\"\n",
              "            style=\"display:none;\">\n",
              "\n",
              "  <svg xmlns=\"http://www.w3.org/2000/svg\" height=\"24px\" viewBox=\"0 -960 960 960\">\n",
              "    <path d=\"M120-120v-720h720v720H120Zm60-500h600v-160H180v160Zm220 220h160v-160H400v160Zm0 220h160v-160H400v160ZM180-400h160v-160H180v160Zm440 0h160v-160H620v160ZM180-180h160v-160H180v160Zm440 0h160v-160H620v160Z\"/>\n",
              "  </svg>\n",
              "    </button>\n",
              "\n",
              "  <style>\n",
              "    .colab-df-container {\n",
              "      display:flex;\n",
              "      gap: 12px;\n",
              "    }\n",
              "\n",
              "    .colab-df-convert {\n",
              "      background-color: #E8F0FE;\n",
              "      border: none;\n",
              "      border-radius: 50%;\n",
              "      cursor: pointer;\n",
              "      display: none;\n",
              "      fill: #1967D2;\n",
              "      height: 32px;\n",
              "      padding: 0 0 0 0;\n",
              "      width: 32px;\n",
              "    }\n",
              "\n",
              "    .colab-df-convert:hover {\n",
              "      background-color: #E2EBFA;\n",
              "      box-shadow: 0px 1px 2px rgba(60, 64, 67, 0.3), 0px 1px 3px 1px rgba(60, 64, 67, 0.15);\n",
              "      fill: #174EA6;\n",
              "    }\n",
              "\n",
              "    .colab-df-buttons div {\n",
              "      margin-bottom: 4px;\n",
              "    }\n",
              "\n",
              "    [theme=dark] .colab-df-convert {\n",
              "      background-color: #3B4455;\n",
              "      fill: #D2E3FC;\n",
              "    }\n",
              "\n",
              "    [theme=dark] .colab-df-convert:hover {\n",
              "      background-color: #434B5C;\n",
              "      box-shadow: 0px 1px 3px 1px rgba(0, 0, 0, 0.15);\n",
              "      filter: drop-shadow(0px 1px 2px rgba(0, 0, 0, 0.3));\n",
              "      fill: #FFFFFF;\n",
              "    }\n",
              "  </style>\n",
              "\n",
              "    <script>\n",
              "      const buttonEl =\n",
              "        document.querySelector('#df-c71e7c4b-f2fe-46b0-8bb8-7d9c52441525 button.colab-df-convert');\n",
              "      buttonEl.style.display =\n",
              "        google.colab.kernel.accessAllowed ? 'block' : 'none';\n",
              "\n",
              "      async function convertToInteractive(key) {\n",
              "        const element = document.querySelector('#df-c71e7c4b-f2fe-46b0-8bb8-7d9c52441525');\n",
              "        const dataTable =\n",
              "          await google.colab.kernel.invokeFunction('convertToInteractive',\n",
              "                                                    [key], {});\n",
              "        if (!dataTable) return;\n",
              "\n",
              "        const docLinkHtml = 'Like what you see? Visit the ' +\n",
              "          '<a target=\"_blank\" href=https://colab.research.google.com/notebooks/data_table.ipynb>data table notebook</a>'\n",
              "          + ' to learn more about interactive tables.';\n",
              "        element.innerHTML = '';\n",
              "        dataTable['output_type'] = 'display_data';\n",
              "        await google.colab.output.renderOutput(dataTable, element);\n",
              "        const docLink = document.createElement('div');\n",
              "        docLink.innerHTML = docLinkHtml;\n",
              "        element.appendChild(docLink);\n",
              "      }\n",
              "    </script>\n",
              "  </div>\n",
              "\n",
              "\n",
              "    <div id=\"df-88c4a854-7caf-49a9-9cab-8538f41dc532\">\n",
              "      <button class=\"colab-df-quickchart\" onclick=\"quickchart('df-88c4a854-7caf-49a9-9cab-8538f41dc532')\"\n",
              "                title=\"Suggest charts\"\n",
              "                style=\"display:none;\">\n",
              "\n",
              "<svg xmlns=\"http://www.w3.org/2000/svg\" height=\"24px\"viewBox=\"0 0 24 24\"\n",
              "     width=\"24px\">\n",
              "    <g>\n",
              "        <path d=\"M19 3H5c-1.1 0-2 .9-2 2v14c0 1.1.9 2 2 2h14c1.1 0 2-.9 2-2V5c0-1.1-.9-2-2-2zM9 17H7v-7h2v7zm4 0h-2V7h2v10zm4 0h-2v-4h2v4z\"/>\n",
              "    </g>\n",
              "</svg>\n",
              "      </button>\n",
              "\n",
              "<style>\n",
              "  .colab-df-quickchart {\n",
              "      --bg-color: #E8F0FE;\n",
              "      --fill-color: #1967D2;\n",
              "      --hover-bg-color: #E2EBFA;\n",
              "      --hover-fill-color: #174EA6;\n",
              "      --disabled-fill-color: #AAA;\n",
              "      --disabled-bg-color: #DDD;\n",
              "  }\n",
              "\n",
              "  [theme=dark] .colab-df-quickchart {\n",
              "      --bg-color: #3B4455;\n",
              "      --fill-color: #D2E3FC;\n",
              "      --hover-bg-color: #434B5C;\n",
              "      --hover-fill-color: #FFFFFF;\n",
              "      --disabled-bg-color: #3B4455;\n",
              "      --disabled-fill-color: #666;\n",
              "  }\n",
              "\n",
              "  .colab-df-quickchart {\n",
              "    background-color: var(--bg-color);\n",
              "    border: none;\n",
              "    border-radius: 50%;\n",
              "    cursor: pointer;\n",
              "    display: none;\n",
              "    fill: var(--fill-color);\n",
              "    height: 32px;\n",
              "    padding: 0;\n",
              "    width: 32px;\n",
              "  }\n",
              "\n",
              "  .colab-df-quickchart:hover {\n",
              "    background-color: var(--hover-bg-color);\n",
              "    box-shadow: 0 1px 2px rgba(60, 64, 67, 0.3), 0 1px 3px 1px rgba(60, 64, 67, 0.15);\n",
              "    fill: var(--button-hover-fill-color);\n",
              "  }\n",
              "\n",
              "  .colab-df-quickchart-complete:disabled,\n",
              "  .colab-df-quickchart-complete:disabled:hover {\n",
              "    background-color: var(--disabled-bg-color);\n",
              "    fill: var(--disabled-fill-color);\n",
              "    box-shadow: none;\n",
              "  }\n",
              "\n",
              "  .colab-df-spinner {\n",
              "    border: 2px solid var(--fill-color);\n",
              "    border-color: transparent;\n",
              "    border-bottom-color: var(--fill-color);\n",
              "    animation:\n",
              "      spin 1s steps(1) infinite;\n",
              "  }\n",
              "\n",
              "  @keyframes spin {\n",
              "    0% {\n",
              "      border-color: transparent;\n",
              "      border-bottom-color: var(--fill-color);\n",
              "      border-left-color: var(--fill-color);\n",
              "    }\n",
              "    20% {\n",
              "      border-color: transparent;\n",
              "      border-left-color: var(--fill-color);\n",
              "      border-top-color: var(--fill-color);\n",
              "    }\n",
              "    30% {\n",
              "      border-color: transparent;\n",
              "      border-left-color: var(--fill-color);\n",
              "      border-top-color: var(--fill-color);\n",
              "      border-right-color: var(--fill-color);\n",
              "    }\n",
              "    40% {\n",
              "      border-color: transparent;\n",
              "      border-right-color: var(--fill-color);\n",
              "      border-top-color: var(--fill-color);\n",
              "    }\n",
              "    60% {\n",
              "      border-color: transparent;\n",
              "      border-right-color: var(--fill-color);\n",
              "    }\n",
              "    80% {\n",
              "      border-color: transparent;\n",
              "      border-right-color: var(--fill-color);\n",
              "      border-bottom-color: var(--fill-color);\n",
              "    }\n",
              "    90% {\n",
              "      border-color: transparent;\n",
              "      border-bottom-color: var(--fill-color);\n",
              "    }\n",
              "  }\n",
              "</style>\n",
              "\n",
              "      <script>\n",
              "        async function quickchart(key) {\n",
              "          const quickchartButtonEl =\n",
              "            document.querySelector('#' + key + ' button');\n",
              "          quickchartButtonEl.disabled = true;  // To prevent multiple clicks.\n",
              "          quickchartButtonEl.classList.add('colab-df-spinner');\n",
              "          try {\n",
              "            const charts = await google.colab.kernel.invokeFunction(\n",
              "                'suggestCharts', [key], {});\n",
              "          } catch (error) {\n",
              "            console.error('Error during call to suggestCharts:', error);\n",
              "          }\n",
              "          quickchartButtonEl.classList.remove('colab-df-spinner');\n",
              "          quickchartButtonEl.classList.add('colab-df-quickchart-complete');\n",
              "        }\n",
              "        (() => {\n",
              "          let quickchartButtonEl =\n",
              "            document.querySelector('#df-88c4a854-7caf-49a9-9cab-8538f41dc532 button');\n",
              "          quickchartButtonEl.style.display =\n",
              "            google.colab.kernel.accessAllowed ? 'block' : 'none';\n",
              "        })();\n",
              "      </script>\n",
              "    </div>\n",
              "\n",
              "    </div>\n",
              "  </div>\n"
            ],
            "application/vnd.google.colaboratory.intrinsic+json": {
              "type": "dataframe",
              "summary": "{\n  \"name\": \"display(df_clean[['mean_salary', 'mean_salary_usd']]\",\n  \"rows\": 5,\n  \"fields\": [\n    {\n      \"column\": \"mean_salary\",\n      \"properties\": {\n        \"dtype\": \"number\",\n        \"std\": 21199.28753814618,\n        \"min\": 118733.0,\n        \"max\": 171254.5,\n        \"num_unique_values\": 5,\n        \"samples\": [\n          118733.0,\n          171254.5,\n          127273.0\n        ],\n        \"semantic_type\": \"\",\n        \"description\": \"\"\n      }\n    },\n    {\n      \"column\": \"mean_salary_usd\",\n      \"properties\": {\n        \"dtype\": \"number\",\n        \"std\": 22895.23054119788,\n        \"min\": 128231.64000000001,\n        \"max\": 184954.86000000002,\n        \"num_unique_values\": 5,\n        \"samples\": [\n          128231.64000000001,\n          184954.86000000002,\n          137454.84\n        ],\n        \"semantic_type\": \"\",\n        \"description\": \"\"\n      }\n    }\n  ]\n}"
            }
          },
          "metadata": {}
        }
      ]
    },
    {
      "cell_type": "code",
      "source": [
        "plot_numerical_histogram(df=df_clean,\n",
        "                         col=\"mean_salary_usd\",\n",
        "                         x_label=\"mean_salary_usd\",\n",
        "                         title=\"Mean salary histogram after removing outliers\",\n",
        "                         )"
      ],
      "metadata": {
        "colab": {
          "base_uri": "https://localhost:8080/",
          "height": 685
        },
        "id": "FQyCWL5hE_bV",
        "outputId": "0dacdb1f-371f-449c-c5c2-bca0457aadf7"
      },
      "execution_count": 8,
      "outputs": [
        {
          "output_type": "display_data",
          "data": {
            "text/plain": [
              "<Figure size 1600x800 with 2 Axes>"
            ],
            "image/png": "[encoded data removed]"
          },
          "metadata": {}
        }
      ]
    },
    {
      "cell_type": "markdown",
      "source": [
        "# **Inferential Statistics**\n",
        "In this section, we present key questions regarding data scientist salaries and address them using **hypothesis testing** and **confidence interval analysis**."
      ],
      "metadata": {
        "id": "T4bzKZyBFfUJ"
      }
    },
    {
      "cell_type": "markdown",
      "source": [
        "## **Question #1: Mean Data Scientist salaries in the US**"
      ],
      "metadata": {
        "id": "6wU7AhWoGwHd"
      }
    },
    {
      "cell_type": "markdown",
      "source": [
        "**Based on salary aggregators like Indeed and Glassdoor, the mean salary for a Data Scientist in the U.S. is around $128,000 as of May 2024. Test whether your sample provides evidence that the \"real\" mean salary is different than this claimed salary.**\n",
        "\n",
        "---"
      ],
      "metadata": {
        "id": "vWYMm0QkIv8Y"
      }
    },
    {
      "cell_type": "code",
      "source": [
        "df_US = df_clean[df_clean['location'] == 'United States']\n",
        "df_US.shape"
      ],
      "metadata": {
        "colab": {
          "base_uri": "https://localhost:8080/"
        },
        "id": "brYMZlmSFEod",
        "outputId": "b01332e0-e03b-4381-8226-a94c620ec2ca"
      },
      "execution_count": 9,
      "outputs": [
        {
          "output_type": "execute_result",
          "data": {
            "text/plain": [
              "(566, 15)"
            ]
          },
          "metadata": {},
          "execution_count": 9
        }
      ]
    },
    {
      "cell_type": "markdown",
      "source": [
        "### **Hypothesis Test**"
      ],
      "metadata": {
        "id": "2sairt5EJZQc"
      }
    },
    {
      "cell_type": "markdown",
      "source": [
        "**Null Hypothesis (H₀):** The true mean salary of data scientists in the population = $128,000.\n",
        "\n",
        "<p align=\"center\">𝐻0 : 𝜇 = 128,000</p>\n",
        "\n",
        "We want to test for any difference (two-tailed):\n",
        "\n",
        "<p align=\"center\">𝐻1 : 𝜇 ≠ 128,000</p>\n",
        "\n",
        "We use a t-test (even with such large  𝑛 ) because the one-sample t-test is the standard choice when we don’t know the population standard deviation (\n",
        "𝜎).\n",
        "\n",
        "Instead, we estimate variability using the sample standard deviation (s). The t-distribution accounts for the extra uncertainty introduced by using 𝑠\n",
        "instead of 𝜎.\n",
        "\n",
        "With a very large sample size (𝑛 > 30, and especially with our  𝑛 ≈ 566), the t-distribution approaches the normal distribution.\n",
        "\n",
        "In fact, the difference between the t-test and z-test results becomes negligible. But we still stick with the t-test because in our dataset, we don’t know 𝜎 , only the sample estimate.\n",
        "\n",
        "Using the t-test is statistically “safer,” and with large 𝑛 , it essentially gives the same result as the z-test anyway.\n"
      ],
      "metadata": {
        "id": "jwFSLTPWJeFk"
      }
    },
    {
      "cell_type": "code",
      "source": [
        "# --- Two-tailed one-sample t-test against claimed mean (e.g., 128000) ---\n",
        "claimed_mean = 128000\n",
        "t_stat, p_val = ttest_1samp(df_US['mean_salary_usd'], claimed_mean)\n",
        "\n",
        "print(f\"T-statistic: {t_stat}\")\n",
        "print(f\"P-value: {p_val}\")\n",
        "print(f\"Mean Salary in USD: {df_US['mean_salary_usd'].mean()}\")\n",
        "\n",
        "# Interpret the results\n",
        "alpha = 0.05\n",
        "if p_val < alpha:\n",
        "    print(\"Reject the null hypothesis: The true mean salary is significantly different from $128,000.\")\n",
        "else:\n",
        "    print(\"Fail to reject the null hypothesis: There is not enough evidence to conclude that the true mean salary is different from $128,000.\")"
      ],
      "metadata": {
        "colab": {
          "base_uri": "https://localhost:8080/"
        },
        "id": "xnJgR2-OQLP2",
        "outputId": "26859acf-5a76-42a3-d62a-495f02d6b810"
      },
      "execution_count": 11,
      "outputs": [
        {
          "output_type": "stream",
          "name": "stdout",
          "text": [
            "T-statistic: 17.28547381728916\n",
            "P-value: 4.7154961676004874e-54\n",
            "Mean Salary in USD: 164677.4974558304\n",
            "Reject the null hypothesis: The true mean salary is significantly different from $128,000.\n"
          ]
        }
      ]
    },
    {
      "cell_type": "markdown",
      "source": [
        "### **Confidence Interval**"
      ],
      "metadata": {
        "id": "FC1McM1pSai0"
      }
    },
    {
      "cell_type": "code",
      "source": [
        "# --- 95% confidence interval for the sample mean ---\n",
        "mean = df_US['mean_salary_usd'].mean()\n",
        "std = df_US['mean_salary_usd'].std()\n",
        "n = len(df_US['mean_salary_usd'])\n",
        "print(f\"Mean: {mean}\\nStd: {std}\\nN: {n}\")\n",
        "\n",
        "ci_low = mean - stats.t.ppf(0.975, n-1) * std/np.sqrt(n)\n",
        "ci_high = mean + stats.t.ppf(0.975, n-1) * std/np.sqrt(n)\n",
        "print(f\"95% confidence interval: ({ci_low}, {ci_high})\")"
      ],
      "metadata": {
        "colab": {
          "base_uri": "https://localhost:8080/"
        },
        "id": "TlWplULrRy-R",
        "outputId": "1edf434b-5c61-4156-d357-a1e005ceec70"
      },
      "execution_count": 12,
      "outputs": [
        {
          "output_type": "stream",
          "name": "stdout",
          "text": [
            "Mean: 164677.4974558304\n",
            "Std: 50480.84577354737\n",
            "N: 566\n",
            "95% confidence interval: (160509.78427590424, 168845.21063575655)\n"
          ]
        }
      ]
    },
    {
      "cell_type": "markdown",
      "source": [
        "## **Question #2: Salary Differences by Seniority Level**"
      ],
      "metadata": {
        "id": "MIA3ItoXdmJN"
      }
    },
    {
      "cell_type": "markdown",
      "source": [
        "**Do senior data scientists earn significantly higher mean salaries than junior/mid-level data scientists in the US?**\n",
        "\n",
        "---\n",
        "\n"
      ],
      "metadata": {
        "id": "ZODnWAJbdmJO"
      }
    },
    {
      "cell_type": "code",
      "source": [
        "df_US = df_clean[df_clean['location'] == 'United States']\n",
        "df_US.shape"
      ],
      "metadata": {
        "colab": {
          "base_uri": "https://localhost:8080/"
        },
        "outputId": "c0c71ebb-3d08-4a02-c2e9-3eb4af909137",
        "id": "XhK-dxQ6dmJP"
      },
      "execution_count": 13,
      "outputs": [
        {
          "output_type": "execute_result",
          "data": {
            "text/plain": [
              "(566, 15)"
            ]
          },
          "metadata": {},
          "execution_count": 13
        }
      ]
    },
    {
      "cell_type": "code",
      "source": [
        "df_US['seniority_level'].value_counts()"
      ],
      "metadata": {
        "colab": {
          "base_uri": "https://localhost:8080/",
          "height": 241
        },
        "id": "0b4nDUT6encf",
        "outputId": "4878fd5b-8540-4f31-ae22-3dfc72a26858"
      },
      "execution_count": 14,
      "outputs": [
        {
          "output_type": "execute_result",
          "data": {
            "text/plain": [
              "seniority_level\n",
              "senior      383\n",
              "lead         80\n",
              "midlevel     59\n",
              "junior       11\n",
              "Name: count, dtype: int64"
            ],
            "text/html": [
              "<div>\n",
              "<style scoped>\n",
              "    .dataframe tbody tr th:only-of-type {\n",
              "        vertical-align: middle;\n",
              "    }\n",
              "\n",
              "    .dataframe tbody tr th {\n",
              "        vertical-align: top;\n",
              "    }\n",
              "\n",
              "    .dataframe thead th {\n",
              "        text-align: right;\n",
              "    }\n",
              "</style>\n",
              "<table border=\"1\" class=\"dataframe\">\n",
              "  <thead>\n",
              "    <tr style=\"text-align: right;\">\n",
              "      <th></th>\n",
              "      <th>count</th>\n",
              "    </tr>\n",
              "    <tr>\n",
              "      <th>seniority_level</th>\n",
              "      <th></th>\n",
              "    </tr>\n",
              "  </thead>\n",
              "  <tbody>\n",
              "    <tr>\n",
              "      <th>senior</th>\n",
              "      <td>383</td>\n",
              "    </tr>\n",
              "    <tr>\n",
              "      <th>lead</th>\n",
              "      <td>80</td>\n",
              "    </tr>\n",
              "    <tr>\n",
              "      <th>midlevel</th>\n",
              "      <td>59</td>\n",
              "    </tr>\n",
              "    <tr>\n",
              "      <th>junior</th>\n",
              "      <td>11</td>\n",
              "    </tr>\n",
              "  </tbody>\n",
              "</table>\n",
              "</div><br><label><b>dtype:</b> int64</label>"
            ]
          },
          "metadata": {},
          "execution_count": 14
        }
      ]
    },
    {
      "cell_type": "markdown",
      "source": [
        "### **Hypothesis Test**"
      ],
      "metadata": {
        "id": "5EQaw1XrdmJQ"
      }
    },
    {
      "cell_type": "markdown",
      "source": [
        "**Null Hypothesis (H₀):** There is no difference in the mean salary between senior-level and junior/mid-level data scientists.\n",
        "\n",
        "**Alternative Hypothesis (H₁):** Senior-level data scientists have a higher mean salary than junior/mid-level data scientists.\n",
        "\n",
        "We could use a t-test (two-sample, unequal variances) if comparing two groups.\n",
        "\n",
        "\n"
      ],
      "metadata": {
        "id": "gFzU-V5NdmJQ"
      }
    },
    {
      "cell_type": "code",
      "source": [
        "# Split the data\n",
        "senior_salaries = df_US[df_US['seniority_level'] == 'senior']['mean_salary_usd']\n",
        "junior_mid_salaries = df_US[df_US['seniority_level'].isin(['junior', 'midlevel'])]['mean_salary_usd']\n",
        "\n",
        "# Calculate descriptive statistics\n",
        "print(\"Senior mean salary:\", senior_salaries.mean())\n",
        "print(\"Junior/Mid mean salary:\", junior_mid_salaries.mean())\n",
        "\n",
        "# Perform Welch's t-test (does not assume equal variance)\n",
        "t_stat, p_value = stats.ttest_ind(senior_salaries, junior_mid_salaries, equal_var=False)\n",
        "print(\"Welch's t-test:\")\n",
        "print(\"t-statistic:\", t_stat)\n",
        "print(\"p-value:\", p_value)\n",
        "\n",
        "# Interpret the results\n",
        "alpha = 0.05\n",
        "if p_value < alpha:\n",
        "    print(\"Reject the null hypothesis: Senior-level data scientists have a higher mean salary than junior/mid-level data scientists.\")\n",
        "else:\n",
        "    print(\"Fail to reject the null hypothesis: There is not enough evidence to conclude that There is no difference in the mean salary between senior-level and junior/mid-level data scientists.\")"
      ],
      "metadata": {
        "colab": {
          "base_uri": "https://localhost:8080/"
        },
        "outputId": "91549d9f-21ca-432c-f7c6-ef2d78a49e1b",
        "id": "WDBjltm4dmJR"
      },
      "execution_count": 15,
      "outputs": [
        {
          "output_type": "stream",
          "name": "stdout",
          "text": [
            "Senior mean salary: 162600.39399477807\n",
            "Junior/Mid mean salary: 149503.11942857146\n",
            "Welch's t-test:\n",
            "t-statistic: 2.181071586325205\n",
            "p-value: 0.03154925395419288\n",
            "Reject the null hypothesis: Senior-level data scientists have a higher mean salary than junior/mid-level data scientists.\n"
          ]
        }
      ]
    },
    {
      "cell_type": "markdown",
      "source": [
        "### **Confidence Interval**"
      ],
      "metadata": {
        "id": "usd8R5Z1dmJR"
      }
    },
    {
      "cell_type": "code",
      "source": [
        "diff_mean = senior_salaries.mean() - junior_mid_salaries.mean()\n",
        "\n",
        "# Standard errors\n",
        "se_senior = senior_salaries.var(ddof=1) / len(senior_salaries)\n",
        "se_junior = junior_mid_salaries.var(ddof=1) / len(junior_mid_salaries)\n",
        "se_diff = np.sqrt(se_senior + se_junior)\n",
        "\n",
        "# Welch-Satterthwaite degrees of freedom\n",
        "df_welch = (se_senior + se_junior)**2 / ((se_senior**2) / (len(senior_salaries)-1) + (se_junior**2) / (len(junior_mid_salaries)-1))\n",
        "\n",
        "# 95% confidence interval (two-tailed)\n",
        "alpha = 0.05\n",
        "t_crit = stats.t.ppf(1 - alpha/2, df_welch)  # two-tailed\n",
        "ci_low = diff_mean - t_crit * se_diff\n",
        "ci_high = diff_mean + t_crit * se_diff\n",
        "# Check that the mean difference is at the center\n",
        "ci_center = (ci_low + ci_high) / 2\n",
        "print(f\"Center of CI: {ci_center:.2f}\")\n",
        "\n",
        "print(f\"Mean difference = {diff_mean} \\nStandard error = {se_diff}\")\n",
        "print(f\"95% confidence interval for difference in means: [{ci_low:.2f}, {ci_high:.2f}]\")"
      ],
      "metadata": {
        "colab": {
          "base_uri": "https://localhost:8080/"
        },
        "outputId": "b8453608-0646-4939-938a-ac7fdd2026d6",
        "id": "mfBzn2qmdmJS"
      },
      "execution_count": 16,
      "outputs": [
        {
          "output_type": "stream",
          "name": "stdout",
          "text": [
            "Center of CI: 13097.27\n",
            "Mean difference = 13097.274566206615 \n",
            "Standard error = 6004.972348603035\n",
            "95% confidence interval for difference in means: [1181.91, 25012.64]\n"
          ]
        }
      ]
    },
    {
      "cell_type": "markdown",
      "source": [
        "**Interpreting the results:**\n",
        "1. The fact that the entire interval is above zero (the lower bound is 1181.91) aligns with the t-test result, indicating a statistically significant difference where senior salaries are higher than junior/mid-level salaries.\n",
        "2. while the interval is conceptually built around the sample mean difference, the unequal variances and sample sizes influence the standard error and degrees of freedom, which in turn affects the precise bounds of the confidence interval. The interval [1181.91, 25012.64] being slightly asymmetric around 13097.27 is a result of these factors in the Welch's t-test calculation. So to recap, why it seems skewed:\n",
        "\n",
        "    * We are using Welch-Satterthwaite degrees of freedom, which affects the t critical value.\n",
        "\n",
        "    * df_welch is probably much smaller than either sample size because the variance of the smaller group (n=70) is influencing it.\n",
        "\n",
        "    * Smaller degrees of freedom → larger t critical → wider CI.\n",
        "\n",
        "    * The standard error is pretty large relative to the mean difference, so the lower bound can be much closer to zero.\n",
        "\n",
        "    * it’s a consequence of:\n",
        "\n",
        "        1. Unequal sample sizes (383 vs 70)\n",
        "        2. Unequal variances\n",
        "        3. Small degrees of freedom from Welch-Satterthwaite formula\n",
        "\n",
        "    So the spread of CI is large and asymmetric relative to the mean because the SE is dominated by the smaller junior/mid group variance and the t critical value is large."
      ],
      "metadata": {
        "id": "myLTi9kGlhJv"
      }
    },
    {
      "cell_type": "markdown",
      "source": [
        "## **Question #3: Remote vs. On-Site Salary**"
      ],
      "metadata": {
        "id": "1XnQi0ckmyse"
      }
    },
    {
      "cell_type": "markdown",
      "source": [
        "**Does job location status (remote/hybrid vs. on-site) affect mean salaries?**\n",
        "\n",
        "---\n",
        "\n"
      ],
      "metadata": {
        "id": "trMVleYkmyse"
      }
    },
    {
      "cell_type": "code",
      "source": [
        "df_US = df_clean[df_clean['location'] == 'United States']\n",
        "df_US.shape"
      ],
      "metadata": {
        "colab": {
          "base_uri": "https://localhost:8080/"
        },
        "outputId": "9b9eff64-80bc-46f2-97b7-e7c253bc6f67",
        "id": "gFyDZNlAmyse"
      },
      "execution_count": 15,
      "outputs": [
        {
          "output_type": "execute_result",
          "data": {
            "text/plain": [
              "(566, 14)"
            ]
          },
          "metadata": {},
          "execution_count": 15
        }
      ]
    },
    {
      "cell_type": "code",
      "source": [
        "df_US['status'].value_counts()"
      ],
      "metadata": {
        "colab": {
          "base_uri": "https://localhost:8080/",
          "height": 209
        },
        "outputId": "e343fdef-7cda-4a4f-e27d-5b09f8b02bc8",
        "id": "fO-J2citmysf"
      },
      "execution_count": 17,
      "outputs": [
        {
          "output_type": "execute_result",
          "data": {
            "text/plain": [
              "status\n",
              "on-site    283\n",
              "hybrid     119\n",
              "remote      50\n",
              "Name: count, dtype: int64"
            ],
            "text/html": [
              "<div>\n",
              "<style scoped>\n",
              "    .dataframe tbody tr th:only-of-type {\n",
              "        vertical-align: middle;\n",
              "    }\n",
              "\n",
              "    .dataframe tbody tr th {\n",
              "        vertical-align: top;\n",
              "    }\n",
              "\n",
              "    .dataframe thead th {\n",
              "        text-align: right;\n",
              "    }\n",
              "</style>\n",
              "<table border=\"1\" class=\"dataframe\">\n",
              "  <thead>\n",
              "    <tr style=\"text-align: right;\">\n",
              "      <th></th>\n",
              "      <th>count</th>\n",
              "    </tr>\n",
              "    <tr>\n",
              "      <th>status</th>\n",
              "      <th></th>\n",
              "    </tr>\n",
              "  </thead>\n",
              "  <tbody>\n",
              "    <tr>\n",
              "      <th>on-site</th>\n",
              "      <td>283</td>\n",
              "    </tr>\n",
              "    <tr>\n",
              "      <th>hybrid</th>\n",
              "      <td>119</td>\n",
              "    </tr>\n",
              "    <tr>\n",
              "      <th>remote</th>\n",
              "      <td>50</td>\n",
              "    </tr>\n",
              "  </tbody>\n",
              "</table>\n",
              "</div><br><label><b>dtype:</b> int64</label>"
            ]
          },
          "metadata": {},
          "execution_count": 17
        }
      ]
    },
    {
      "cell_type": "markdown",
      "source": [
        "### **Hypothesis Test**"
      ],
      "metadata": {
        "id": "ALLsJgSvmysg"
      }
    },
    {
      "cell_type": "markdown",
      "source": [
        "**Null Hypothesis (H₀):**  There is no evidence that on-site data scientists earn higher salaries than remote/hybrid data scientists.\n",
        "<p align=\"center\">μ on-site ≤ μ remote/hybrid</p>\n",
        "\n",
        "**Alternative Hypothesis (H₁):** On-site data scientists earn higher salaries than remote/hybrid data scientists.\n",
        "<p align=\"center\">μ on-site > μ remote/hybrid\n"
      ],
      "metadata": {
        "id": "A2Iaabnmmysg"
      }
    },
    {
      "cell_type": "code",
      "source": [
        "# Split the data\n",
        "on_site_salaries = df_US[df_US['status'] == 'on-site']['mean_salary_usd']\n",
        "remote_hybrid_salaries = df_US[df_US['status'].isin(['remote', 'hybrid'])]['mean_salary_usd']\n",
        "\n",
        "# Descriptive statistics\n",
        "print(\"On-site mean salary:\", on_site_salaries.mean())\n",
        "print(\"Remote/Hybrid mean salary:\", remote_hybrid_salaries.mean())\n",
        "\n",
        "# Welch's t-test (one-tailed: H1 = on-site > remote/hybrid)\n",
        "t_stat, p_value_two_tailed = stats.ttest_ind(on_site_salaries, remote_hybrid_salaries, equal_var=False)\n",
        "# Convert two-tailed p-value to one-tailed\n",
        "p_value_one_tailed = p_value_two_tailed / 2 if t_stat > 0 else 1 - p_value_two_tailed / 2\n",
        "\n",
        "print(\"Welch's t-test (one-tailed):\")\n",
        "print(\"t-statistic:\", t_stat)\n",
        "print(\"one-tailed p-value:\", p_value_one_tailed)\n",
        "\n",
        "\n",
        "# Interpret the results\n",
        "alpha = 0.05\n",
        "if p_value < alpha:\n",
        "    print(\"Reject the null hypothesis: on-site roles have a higher mean salary than remote/hybrid data scientists.\")\n",
        "else:\n",
        "    print(\"Fail to reject the null hypothesis: There is not enough evidence to conclude that on-site roles have a higher mean salary than remote/hybrid data scientists.\")"
      ],
      "metadata": {
        "colab": {
          "base_uri": "https://localhost:8080/"
        },
        "outputId": "d4afb09b-0772-4f79-bc8f-dde2798a4a40",
        "id": "r_AE8wMCmysg"
      },
      "execution_count": 18,
      "outputs": [
        {
          "output_type": "stream",
          "name": "stdout",
          "text": [
            "On-site mean salary: 175077.67802120146\n",
            "Remote/Hybrid mean salary: 159194.5146745562\n",
            "Welch's t-test (one-tailed):\n",
            "t-statistic: 3.331950940087809\n",
            "one-tailed p-value: 0.0004755466873772446\n",
            "Reject the null hypothesis: on-site roles have a higher mean salary than remote/hybrid data scientists.\n"
          ]
        }
      ]
    },
    {
      "cell_type": "markdown",
      "source": [
        "### **Confidence Interval**"
      ],
      "metadata": {
        "id": "SETA7-zqmysg"
      }
    },
    {
      "cell_type": "code",
      "source": [
        "# Difference in means\n",
        "diff_mean = on_site_salaries.mean() - remote_hybrid_salaries.mean()\n",
        "\n",
        "# Standard errors\n",
        "se_on_site = on_site_salaries.var(ddof=1)/len(on_site_salaries)\n",
        "se_remote = remote_hybrid_salaries.var(ddof=1)/len(remote_hybrid_salaries)\n",
        "se_diff = np.sqrt(se_on_site + se_remote)\n",
        "\n",
        "# Welch-Satterthwaite degrees of freedom\n",
        "df_welch = (se_on_site + se_remote)**2 / ((se_on_site**2)/(len(on_site_salaries)-1) + (se_remote**2)/(len(remote_hybrid_salaries)-1))\n",
        "\n",
        "# 95% confidence interval using t-distribution\n",
        "alpha = 0.05\n",
        "t_crit = stats.t.ppf(1 - alpha, df_welch)  # one-tailed CI upper bound\n",
        "ci_low = diff_mean - t_crit * se_diff\n",
        "ci_high = diff_mean + t_crit * se_diff\n",
        "\n",
        "print(f\"Mean difference = {diff_mean} \\nStandard error = {se_diff}\")\n",
        "print(f\"95% confidence interval for difference in means (on-site - remote/hybrid): [{ci_low:.2f}, {ci_high:.2f}]\")"
      ],
      "metadata": {
        "colab": {
          "base_uri": "https://localhost:8080/"
        },
        "outputId": "76cbc345-5896-4795-daf6-b77eafcdeaff",
        "id": "NheiEf5Zmysh"
      },
      "execution_count": 19,
      "outputs": [
        {
          "output_type": "stream",
          "name": "stdout",
          "text": [
            "Mean difference = 15883.163346645248 \n",
            "Standard error = 4766.9259338574375\n",
            "95% confidence interval for difference in means (on-site - remote/hybrid): [8022.20, 23744.13]\n"
          ]
        }
      ]
    },
    {
      "cell_type": "markdown",
      "source": [
        "The fact that the entire interval is above zero (the lower bound is 8022.20) aligns with the t-test result, indicating a statistically significant difference where on-site salaries are higher than remote/hybrid salaries"
      ],
      "metadata": {
        "id": "UAmpzbNuCI4y"
      }
    },
    {
      "cell_type": "code",
      "source": [],
      "metadata": {
        "id": "evCSyyVOmxod"
      },
      "execution_count": null,
      "outputs": []
    },
    {
      "cell_type": "code",
      "source": [],
      "metadata": {
        "id": "0cammTsMCVXD"
      },
      "execution_count": null,
      "outputs": []
    }
  ]
}